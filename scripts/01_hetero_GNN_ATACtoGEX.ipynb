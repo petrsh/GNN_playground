{
 "cells": [
  {
   "cell_type": "code",
   "execution_count": null,
   "id": "fc458f1b-79d3-4965-b377-cf264c307b8a",
   "metadata": {
    "collapsed": true
   },
   "outputs": [
    {
     "name": "stdout",
     "output_type": "stream",
     "text": [
      "Found existing installation: pyg-lib 0.1.0+pt113cpu\n",
      "Uninstalling pyg-lib-0.1.0+pt113cpu:\n",
      "  Successfully uninstalled pyg-lib-0.1.0+pt113cpu\n",
      "Found existing installation: torch-scatter 2.1.1+pt113cpu\n",
      "Uninstalling torch-scatter-2.1.1+pt113cpu:\n",
      "  Successfully uninstalled torch-scatter-2.1.1+pt113cpu\n",
      "Found existing installation: torch-sparse 0.6.17+pt113cpu\n",
      "Uninstalling torch-sparse-0.6.17+pt113cpu:\n",
      "  Successfully uninstalled torch-sparse-0.6.17+pt113cpu\n",
      "Found existing installation: torch-cluster 1.6.1+pt113cpu\n",
      "Uninstalling torch-cluster-1.6.1+pt113cpu:\n",
      "  Successfully uninstalled torch-cluster-1.6.1+pt113cpu\n",
      "Found existing installation: torch-spline-conv 1.2.2+pt113cpu\n",
      "Uninstalling torch-spline-conv-1.2.2+pt113cpu:\n",
      "  Successfully uninstalled torch-spline-conv-1.2.2+pt113cpu\n",
      "Found existing installation: torch-geometric 2.2.0\n",
      "Uninstalling torch-geometric-2.2.0:\n",
      "  Successfully uninstalled torch-geometric-2.2.0\n"
     ]
    }
   ],
   "source": [
    "#!python -c \"import torch; print(torch.__version__)\"\n"
   ]
  },
  {
   "cell_type": "code",
   "execution_count": 1,
   "id": "1dce22bc-85f6-47dd-9e2b-ce812d41c4e0",
   "metadata": {
    "collapsed": true,
    "execution": {
     "iopub.execute_input": "2023-08-12T19:42:35.154266Z",
     "iopub.status.busy": "2023-08-12T19:42:35.153849Z",
     "iopub.status.idle": "2023-08-12T19:42:47.715773Z",
     "shell.execute_reply": "2023-08-12T19:42:47.715090Z",
     "shell.execute_reply.started": "2023-08-12T19:42:35.154199Z"
    },
    "tags": []
   },
   "outputs": [
    {
     "name": "stdout",
     "output_type": "stream",
     "text": [
      "Looking in links: https://data.pyg.org/whl/torch-2.0.0+cu117.html\n",
      "Collecting torch-scatter\n",
      "  Using cached https://data.pyg.org/whl/torch-2.0.0%2Bcu117/torch_scatter-2.1.1%2Bpt20cu117-cp39-cp39-linux_x86_64.whl (10.2 MB)\n",
      "Installing collected packages: torch-scatter\n",
      "Successfully installed torch-scatter-2.1.1+pt20cu117\n",
      "Looking in links: https://data.pyg.org/whl/torch-2.0.0+cu117.html\n",
      "Collecting torch-sparse\n",
      "  Using cached https://data.pyg.org/whl/torch-2.0.0%2Bcu117/torch_sparse-0.6.17%2Bpt20cu117-cp39-cp39-linux_x86_64.whl (4.8 MB)\n",
      "Requirement already satisfied: scipy in /opt/conda/envs/saturn/lib/python3.9/site-packages (from torch-sparse) (1.8.0)\n",
      "Requirement already satisfied: numpy<1.25.0,>=1.17.3 in /opt/conda/envs/saturn/lib/python3.9/site-packages (from scipy->torch-sparse) (1.21.6)\n",
      "Installing collected packages: torch-sparse\n",
      "Successfully installed torch-sparse-0.6.17+pt20cu117\n",
      "Collecting torch-geometric\n",
      "  Using cached torch_geometric-2.3.1-py3-none-any.whl\n",
      "Requirement already satisfied: scikit-learn in /opt/conda/envs/saturn/lib/python3.9/site-packages (from torch-geometric) (1.0.2)\n",
      "Requirement already satisfied: psutil>=5.8.0 in /opt/conda/envs/saturn/lib/python3.9/site-packages (from torch-geometric) (5.9.0)\n",
      "Requirement already satisfied: requests in /opt/conda/envs/saturn/lib/python3.9/site-packages (from torch-geometric) (2.27.1)\n",
      "Requirement already satisfied: pyparsing in /opt/conda/envs/saturn/lib/python3.9/site-packages (from torch-geometric) (3.0.9)\n",
      "Collecting tqdm\n",
      "  Downloading tqdm-4.66.1-py3-none-any.whl (78 kB)\n",
      "\u001b[2K     \u001b[90m━━━━━━━━━━━━━━━━━━━━━━━━━━━━━━━━━━━━━━━━\u001b[0m \u001b[32m78.3/78.3 KB\u001b[0m \u001b[31m10.8 MB/s\u001b[0m eta \u001b[36m0:00:00\u001b[0m\n",
      "\u001b[?25hRequirement already satisfied: numpy in /opt/conda/envs/saturn/lib/python3.9/site-packages (from torch-geometric) (1.21.6)\n",
      "Requirement already satisfied: jinja2 in /opt/conda/envs/saturn/lib/python3.9/site-packages (from torch-geometric) (3.1.2)\n",
      "Requirement already satisfied: scipy in /opt/conda/envs/saturn/lib/python3.9/site-packages (from torch-geometric) (1.8.0)\n",
      "Requirement already satisfied: MarkupSafe>=2.0 in /opt/conda/envs/saturn/lib/python3.9/site-packages (from jinja2->torch-geometric) (2.1.1)\n",
      "Requirement already satisfied: idna<4,>=2.5 in /opt/conda/envs/saturn/lib/python3.9/site-packages (from requests->torch-geometric) (3.3)\n",
      "Requirement already satisfied: certifi>=2017.4.17 in /opt/conda/envs/saturn/lib/python3.9/site-packages (from requests->torch-geometric) (2021.10.8)\n",
      "Requirement already satisfied: urllib3<1.27,>=1.21.1 in /opt/conda/envs/saturn/lib/python3.9/site-packages (from requests->torch-geometric) (1.26.9)\n",
      "Requirement already satisfied: charset-normalizer~=2.0.0 in /opt/conda/envs/saturn/lib/python3.9/site-packages (from requests->torch-geometric) (2.0.12)\n",
      "Requirement already satisfied: threadpoolctl>=2.0.0 in /opt/conda/envs/saturn/lib/python3.9/site-packages (from scikit-learn->torch-geometric) (3.1.0)\n",
      "Requirement already satisfied: joblib>=0.11 in /opt/conda/envs/saturn/lib/python3.9/site-packages (from scikit-learn->torch-geometric) (1.1.0)\n",
      "Installing collected packages: tqdm, torch-geometric\n",
      "Successfully installed torch-geometric-2.3.1 tqdm-4.66.1\n",
      "Looking in links: https://data.pyg.org/whl/torch-2.0.0+cu117.html\n",
      "Collecting pyg-lib\n",
      "  Using cached https://data.pyg.org/whl/torch-2.0.0%2Bcu117/pyg_lib-0.2.0%2Bpt20cu117-cp39-cp39-linux_x86_64.whl (1.4 MB)\n",
      "Installing collected packages: pyg-lib\n",
      "Successfully installed pyg-lib-0.2.0+pt20cu117\n"
     ]
    }
   ],
   "source": [
    "# dependencies\n",
    "# !pip install torch-scatter -f https://data.pyg.org/whl/torch-2.0.0+cu117.html\n",
    "# !pip install torch-sparse -f https://data.pyg.org/whl/torch-2.0.0+cu117.html\n",
    "# !pip install torch-geometric\n",
    "# !pip install pyg-lib -f https://data.pyg.org/whl/torch-2.0.0+cu117.html\n",
    "# !pip install tables"
   ]
  },
  {
   "cell_type": "code",
   "execution_count": 1,
   "id": "544b7ff2-1917-4980-853d-265304272d2e",
   "metadata": {
    "execution": {
     "iopub.execute_input": "2023-08-12T21:13:09.057790Z",
     "iopub.status.busy": "2023-08-12T21:13:09.057384Z",
     "iopub.status.idle": "2023-08-12T21:13:11.601183Z",
     "shell.execute_reply": "2023-08-12T21:13:11.600548Z",
     "shell.execute_reply.started": "2023-08-12T21:13:09.057723Z"
    },
    "tags": []
   },
   "outputs": [],
   "source": [
    "import scipy\n",
    "import scipy.sparse\n",
    "import numpy as np\n",
    "import pandas as pd\n",
    "\n",
    "import torch\n",
    "import torch.nn.functional as F\n",
    "from torch.nn import CosineSimilarity\n",
    "\n",
    "from torch_geometric.data import HeteroData\n",
    "from torch_geometric.nn import GraphConv, to_hetero\n",
    "from torch_geometric.loader import NeighborLoader\n",
    "\n",
    "from tqdm import tqdm\n",
    "import gc\n",
    "\n",
    "import random\n",
    "import glob"
   ]
  },
  {
   "cell_type": "code",
   "execution_count": 2,
   "id": "a4dc8aee-32ff-4cf9-b0c2-9c8742baf93a",
   "metadata": {
    "execution": {
     "iopub.execute_input": "2023-06-18T15:51:54.370918Z",
     "iopub.status.busy": "2023-06-18T15:51:54.370546Z",
     "iopub.status.idle": "2023-06-18T15:51:54.374414Z",
     "shell.execute_reply": "2023-06-18T15:51:54.373967Z",
     "shell.execute_reply.started": "2023-06-18T15:51:54.370891Z"
    },
    "tags": []
   },
   "outputs": [],
   "source": [
    "# Define correlation loss\n",
    "def correlation_loss(x1, x2):\n",
    "    cos = CosineSimilarity(dim=1, eps=1e-6)\n",
    "    pearson = cos(x1 - x1.mean(dim=1, keepdim=True), x2 - x2.mean(dim=1, keepdim=True))\n",
    "    return (- 1 * pearson).mean()"
   ]
  },
  {
   "cell_type": "code",
   "execution_count": 3,
   "id": "67435a3a-3062-4043-a1bc-1b6797b8d02b",
   "metadata": {
    "execution": {
     "iopub.execute_input": "2023-06-11T17:44:38.963769Z",
     "iopub.status.busy": "2023-06-11T17:44:38.963573Z",
     "iopub.status.idle": "2023-06-11T17:45:23.738440Z",
     "shell.execute_reply": "2023-06-11T17:45:23.737854Z",
     "shell.execute_reply.started": "2023-06-11T17:44:38.963751Z"
    },
    "tags": []
   },
   "outputs": [],
   "source": [
    "# Read input and target data in sparse format\n",
    "DATA_DIR = \"../data/\"\n",
    "train_inputs = scipy.sparse.load_npz(os.path.join(DATA_DIR, \"sparse_data/train_multi_inputs_values.sparse.npz\"))\n",
    "target_GEX = scipy.sparse.load_npz(os.path.join(DATA_DIR, \"train_multi_targets_values.sparse.npz\"))"
   ]
  },
  {
   "cell_type": "code",
   "execution_count": 2,
   "id": "df120464-1955-41ee-8db8-ab9717864a02",
   "metadata": {
    "execution": {
     "iopub.execute_input": "2023-06-18T15:42:40.376486Z",
     "iopub.status.busy": "2023-06-18T15:42:40.376117Z",
     "iopub.status.idle": "2023-06-18T15:42:40.464720Z",
     "shell.execute_reply": "2023-06-18T15:42:40.464034Z",
     "shell.execute_reply.started": "2023-06-18T15:42:40.376461Z"
    },
    "tags": []
   },
   "outputs": [],
   "source": [
    "def create_graph(train_inputs, subset, target_GEX, test_size=2000):\n",
    "    \"\"\"\n",
    "    Prepare and structure a heterogenous graph from given input data.\n",
    "    \"\"\"\n",
    "    \n",
    "    # Create a new heterogeneous graph data object\n",
    "    data = HeteroData()\n",
    "    \n",
    "    # Initialize node features for 'cell' and 'atac' with tensor of ones\n",
    "    data['cell'].x = torch.tensor(np.full((len(subset),1),1), dtype=torch.float)\n",
    "    data['atac'].x = torch.tensor(np.full((228942,1),1), dtype=torch.float)\n",
    "\n",
    "    # Convert the subset of training inputs to dense format and transpose\n",
    "    train_inputs_d_t = train_inputs[subset,:].todense().transpose()\n",
    "    \n",
    "    # Identify nonzero entries, which indicate the edges, and store them\n",
    "    tmp = np.nonzero(train_inputs_d_t)\n",
    "    data['cell','accessibility','atac'].edge_index = torch.tensor([tmp[1].tolist(),tmp[0].tolist()], dtype=torch.long)\n",
    "    data['atac','rev_accessibility','cell'].edge_index = torch.tensor([tmp[0].tolist(),tmp[1].tolist()], dtype=torch.long)\n",
    "    \n",
    "    # Extract edge weights and store them\n",
    "    tmp_edge_weights = train_inputs_d_t[train_inputs_d_t != 0]\n",
    "    data['cell','accessibility','atac'].edge_weight = torch.tensor(np.asarray(tmp_edge_weights).flatten(), dtype=torch.float)\n",
    "    data['atac','rev_accessibility','cell'].edge_weight = torch.tensor(np.asarray(tmp_edge_weights).flatten(), dtype=torch.float)\n",
    "    \n",
    "    # Store target values associated with cell nodes\n",
    "    data['cell'].y = torch.tensor(target_GEX[subset,:].todense(), dtype=torch.float)\n",
    "    \n",
    "    # Create masks for training and testing datasets and store them\n",
    "    train_mask = np.full(len(subset), False)\n",
    "    train_mask[:(len(subset)-test_size)] = True\n",
    "    test_mask = np.full(len(subset), False)\n",
    "    test_mask[(len(subset)-test_size):len(subset)] = True\n",
    "    data['cell'].train_mask = torch.tensor(train_mask)\n",
    "    data['cell'].test_mask = torch.tensor(test_mask)\n",
    "    \n",
    "    return data\n",
    "    "
   ]
  },
  {
   "cell_type": "code",
   "execution_count": null,
   "id": "42a53a59",
   "metadata": {},
   "outputs": [],
   "source": [
    "@torch.no_grad() # A decorator that turns off gradient calculation\n",
    "def init_params():\n",
    "    \"\"\"\n",
    "    Initialize the lazy parameters of the model by forwarding a single batch through it.\n",
    "    \"\"\"\n",
    "    batch = next(iter(train_loader))\n",
    "    #batch = batch.to(device, 'edge_index')\n",
    "    model(batch.x_dict, batch.edge_index_dict, batch.edge_weight_dict)"
   ]
  },
  {
   "cell_type": "code",
   "execution_count": 2,
   "id": "7eebcc09-3a02-4b89-b251-ae78708bcf4e",
   "metadata": {
    "execution": {
     "iopub.execute_input": "2023-06-23T17:19:49.505834Z",
     "iopub.status.busy": "2023-06-23T17:19:49.505477Z",
     "iopub.status.idle": "2023-06-23T17:19:49.510908Z",
     "shell.execute_reply": "2023-06-23T17:19:49.510259Z",
     "shell.execute_reply.started": "2023-06-23T17:19:49.505807Z"
    },
    "tags": []
   },
   "outputs": [],
   "source": [
    "class GNN(torch.nn.Module):\n",
    "    \"\"\"\n",
    "    A GNN with two graph convolutional layers.\n",
    "    \"\"\"\n",
    "    def __init__(self, hidden_channels, out_channels):\n",
    "        \"\"\"\n",
    "        Initializes the GNN model.\n",
    "\n",
    "        Parameters:\n",
    "        - hidden_channels: Number of channels in the hidden layer.\n",
    "        - out_channels: Number of channels in the output layer.\n",
    "        \"\"\"\n",
    "        super().__init__()\n",
    "        \n",
    "        # Input channels are lazily determined (-1)\n",
    "        self.conv1 = GraphConv(-1, hidden_channels, add_self_loops=False, aggr = 'max')\n",
    "        self.conv2 = GraphConv(-1, out_channels, add_self_loops=False, aggr = 'max')\n",
    "\n",
    "    def forward(self, x, edge_index, edge_weight):\n",
    "        \"\"\"\n",
    "        Forward pass through the GNN model.\n",
    "\n",
    "        Parameters:\n",
    "        - x: Node features.\n",
    "        - edge_index: Edge indices indicating node pairs.\n",
    "        - edge_weight: Weights associated with edges.\n",
    "\n",
    "        Returns:\n",
    "        - x: Updated node features after passing through the GNN.\n",
    "        \"\"\"\n",
    "        x = self.conv1(x, edge_index, edge_weight=edge_weight).relu()\n",
    "        x = self.conv2(x, edge_index, edge_weight=edge_weight)\n",
    "        \n",
    "        return x"
   ]
  },
  {
   "cell_type": "code",
   "execution_count": 7,
   "id": "feb04a17-7c75-489a-81d0-760180fe2f7b",
   "metadata": {
    "execution": {
     "iopub.execute_input": "2023-06-11T17:45:23.760507Z",
     "iopub.status.busy": "2023-06-11T17:45:23.760146Z",
     "iopub.status.idle": "2023-06-11T17:45:23.766021Z",
     "shell.execute_reply": "2023-06-11T17:45:23.765572Z",
     "shell.execute_reply.started": "2023-06-11T17:45:23.760487Z"
    },
    "tags": []
   },
   "outputs": [],
   "source": [
    "def train():\n",
    "    \"\"\"\n",
    "    Train the model on data from train_loader and return the average training loss.\n",
    "    \"\"\"\n",
    "    \n",
    "    # Set the model to train mode\n",
    "    model.train()\n",
    "\n",
    "    total_examples = total_loss = 0\n",
    "    # Iterate over batches of data from the train_loader\n",
    "    for batch in tqdm(train_loader):\n",
    "        \n",
    "        # Clear the previously calculated gradients\n",
    "        optimizer.zero_grad()\n",
    "        \n",
    "        #batch = batch.to(device, 'edge_index')\n",
    "        batch_size = batch['cell'].batch_size  \n",
    "        \n",
    "        # Forward the batch data through the model\n",
    "        out = model(batch.x_dict, batch.edge_index_dict, batch.edge_weight_dict)['cell'][:batch_size]\n",
    "        \n",
    "        # Calculate the loss\n",
    "        #loss = F.mse_loss(out, batch['cell'].y[:batch_size])\n",
    "        loss = correlation_loss(out, batch['cell'].y[:batch_size])\n",
    "        \n",
    "        # Compute the gradients through backpropagation\n",
    "        loss.backward()\n",
    "        \n",
    "        # Update the model's parameters based on the gradients\n",
    "        optimizer.step()\n",
    "\n",
    "        total_examples += batch_size\n",
    "        total_loss += float(loss) * batch_size\n",
    "\n",
    "    return total_loss / total_examples\n",
    "\n",
    "@torch.no_grad() # A decorator that turns off gradient calculation\n",
    "def test(loader):\n",
    "    \"\"\"\n",
    "    Evaluate the model's performance on data from the provided loader and returns the average loss on the evaluation data.\n",
    "    \n",
    "    Parameters:\n",
    "        loader: DataLoader object for evaluation data.\n",
    "    \"\"\"\n",
    "\n",
    "    # Set the model to evaluation mode\n",
    "    model.eval()\n",
    "\n",
    "    total_examples = total_loss = 0\n",
    "    # Iterate over batches of data from the loader\n",
    "    for batch in tqdm(loader):\n",
    "        #batch = batch.to(device, 'edge_index')\n",
    "        batch_size = batch['cell'].batch_size  \n",
    "        out = model(batch.x_dict, batch.edge_index_dict, batch.edge_weight_dict)['cell'][:batch_size]\n",
    "        #loss = F.mse_loss(out, batch['cell'].y[:batch_size])\n",
    "        loss = correlation_loss(out, batch['cell'].y[:batch_size])\n",
    "        total_examples += batch_size\n",
    "        total_loss += float(loss) * batch_size\n",
    "        \n",
    "    return total_loss / total_examples"
   ]
  },
  {
   "cell_type": "code",
   "execution_count": 8,
   "id": "8e4aea81-c6b0-45c2-a758-65a0cfda9f26",
   "metadata": {
    "execution": {
     "iopub.execute_input": "2023-06-11T17:45:23.767006Z",
     "iopub.status.busy": "2023-06-11T17:45:23.766663Z",
     "iopub.status.idle": "2023-06-11T17:45:23.823224Z",
     "shell.execute_reply": "2023-06-11T17:45:23.822672Z",
     "shell.execute_reply.started": "2023-06-11T17:45:23.766987Z"
    },
    "tags": []
   },
   "outputs": [],
   "source": [
    "cell_size = 15000\n",
    "n_groups = train_inputs.shape[0]//cell_size\n",
    "numbers = list(range(train_inputs.shape[0]))\n",
    "random.seed(42)\n",
    "random.shuffle(numbers)\n",
    "groups = [numbers[i::n_groups] for i in range(n_groups)]"
   ]
  },
  {
   "cell_type": "code",
   "execution_count": null,
   "id": "b90a82f2-7d69-4965-9396-dfcc1c54a69f",
   "metadata": {
    "tags": []
   },
   "outputs": [],
   "source": [
    "data = create_graph(train_inputs, groups[0], target_GEX, test_size=2000)\n",
    "model = GNN(hidden_channels=64, out_channels=target_GEX.shape[1])\n",
    "model = to_hetero(model, data.metadata(), aggr='mean')\n",
    "\n",
    "\n",
    "optimizer = torch.optim.Adam(model.parameters(), lr=0.01)\n",
    "del data\n",
    "gc.collect()"
   ]
  },
  {
   "cell_type": "code",
   "execution_count": null,
   "id": "d9b110c3-4ace-4f69-863e-da9104b0202b",
   "metadata": {
    "tags": []
   },
   "outputs": [],
   "source": [
    "train_loss_dict = {}\n",
    "test_loss_dict = {}\n",
    "j = 1\n",
    "\n",
    "for i in groups:\n",
    "    print(\"step0\")\n",
    "    data = create_graph(train_inputs, i, target_GEX, test_size=2000)\n",
    "    print(\"step1\")\n",
    "    train_loader = NeighborLoader(data, \n",
    "                              num_neighbors=[30] * 2, \n",
    "                              input_nodes=('cell', data['cell'].train_mask),\n",
    "                              batch_size=128)\n",
    "\n",
    "    test_loader = NeighborLoader(data, \n",
    "                                  num_neighbors=[30] * 2, \n",
    "                                  input_nodes=('cell', data['cell'].test_mask),\n",
    "                                  batch_size=128)    \n",
    "    \n",
    "    train_loss_dict[j] = {}\n",
    "    test_loss_dict[j] = {}\n",
    "    \n",
    "    for epoch in range(0, 5):\n",
    "        print(epoch)\n",
    "        train_loss_dict[j][epoch] = train()\n",
    "        test_loss_dict[j][epoch] = test(test_loader)\n",
    "        print(f'Epoch: {epoch:02d}, loss: {train_loss_dict[j][epoch]:.4f}, test_loss: {test_loss_dict[j][epoch]:.4f}')\n",
    "    print(\"step2\")\n",
    "    del data\n",
    "    gc.collect()\n",
    "    j += 1"
   ]
  },
  {
   "cell_type": "code",
   "execution_count": null,
   "id": "6a138a7a-d259-4260-941c-56b56f006150",
   "metadata": {
    "tags": []
   },
   "outputs": [],
   "source": [
    "# Save the model's state dictionary\n",
    "PATH = \"../data/heteroGNN_GEX.pt\"\n",
    "torch.save(model.state_dict(), PATH)"
   ]
  },
  {
   "cell_type": "code",
   "execution_count": 3,
   "id": "12a19f0e-9a33-4781-b8c4-b82339209183",
   "metadata": {
    "execution": {
     "iopub.execute_input": "2023-06-18T14:41:47.495189Z",
     "iopub.status.busy": "2023-06-18T14:41:47.494738Z",
     "iopub.status.idle": "2023-06-18T14:41:47.573453Z",
     "shell.execute_reply": "2023-06-18T14:41:47.572871Z",
     "shell.execute_reply.started": "2023-06-18T14:41:47.495166Z"
    }
   },
   "outputs": [],
   "source": []
  },
  {
   "cell_type": "code",
   "execution_count": null,
   "id": "3387be9b-2d5b-466b-a2bc-123024999ef4",
   "metadata": {},
   "outputs": [],
   "source": [
    "# Create a submision file"
   ]
  },
  {
   "cell_type": "code",
   "execution_count": 33,
   "id": "9956ca2a-08a1-46f1-a0bd-57e844fb9862",
   "metadata": {
    "execution": {
     "iopub.execute_input": "2023-06-23T17:20:00.840999Z",
     "iopub.status.busy": "2023-06-23T17:20:00.840618Z",
     "iopub.status.idle": "2023-06-23T17:20:18.414576Z",
     "shell.execute_reply": "2023-06-23T17:20:18.414010Z",
     "shell.execute_reply.started": "2023-06-23T17:20:00.840975Z"
    },
    "tags": []
   },
   "outputs": [],
   "source": [
    "# Read data in sparse format\n",
    "multi_test = scipy.sparse.load_npz(os.path.join(DATA_DIR,\"sparse_data/test_multi_inputs_values.sparse.npz\"))\n",
    "multi_test_idxcol = np.load(os.path.join(DATA_DIR,\"sparse_data/test_multi_inputs_idxcol.npz\", allow_pickle=True))"
   ]
  },
  {
   "cell_type": "code",
   "execution_count": 109,
   "id": "e5988f89-f933-4656-8f17-9ff65d12d4d9",
   "metadata": {
    "execution": {
     "iopub.execute_input": "2023-06-23T17:20:18.415828Z",
     "iopub.status.busy": "2023-06-23T17:20:18.415533Z",
     "iopub.status.idle": "2023-06-23T17:20:18.422834Z",
     "shell.execute_reply": "2023-06-23T17:20:18.422366Z",
     "shell.execute_reply.started": "2023-06-23T17:20:18.415807Z"
    },
    "tags": []
   },
   "outputs": [],
   "source": [
    "# This function creates a heterogenous graph for prediction\n",
    "def create_graph_pred(test_inputs, subset):\n",
    "    \n",
    "    data_pred = HeteroData()\n",
    "    data_pred['cell'].x = torch.tensor(np.full((len(subset),1),1), dtype=torch.float)\n",
    "    data_pred['atac'].x = torch.tensor(np.full((228942,1),1), dtype=torch.float)\n",
    "        \n",
    "    #test_inputs_t = test_inputs.iloc[subset,:].transpose().to_numpy()\n",
    "    test_inputs_t = test_inputs[subset,:].todense().transpose() # when sparse\n",
    "    \n",
    "    tmp = np.nonzero(test_inputs_t)\n",
    "    data_pred['cell','accessibility','atac'].edge_index = torch.tensor([tmp[1].tolist(),tmp[0].tolist()], dtype=torch.long)\n",
    "    data_pred['atac','rev_accessibility','cell'].edge_index = torch.tensor([tmp[0].tolist(),tmp[1].tolist()], dtype=torch.long)\n",
    "    tmp_edge_weights = test_inputs_t[test_inputs_t != 0]\n",
    "\n",
    "    data_pred['cell','accessibility','atac'].edge_weight = torch.tensor(np.asarray(tmp_edge_weights).flatten(), dtype=torch.float)\n",
    "    data_pred['atac','rev_accessibility','cell'].edge_weight = torch.tensor(np.asarray(tmp_edge_weights).flatten(), dtype=torch.float)\n",
    "\n",
    "    return data_pred"
   ]
  },
  {
   "cell_type": "code",
   "execution_count": null,
   "id": "10cb3608",
   "metadata": {},
   "outputs": [],
   "source": [
    "state_dict = torch.load(os.path.join(DATA_DIR,\"heteroGNN_GEX.pt\"))"
   ]
  },
  {
   "cell_type": "code",
   "execution_count": 259,
   "id": "c30fb2f2",
   "metadata": {},
   "outputs": [
    {
     "data": {
      "text/plain": [
       "57"
      ]
     },
     "execution_count": 259,
     "metadata": {},
     "output_type": "execute_result"
    }
   ],
   "source": [
    "batch['cell'].batch_size"
   ]
  },
  {
   "cell_type": "code",
   "execution_count": 255,
   "id": "c15b7681",
   "metadata": {},
   "outputs": [
    {
     "data": {
      "text/plain": [
       "tensor([[  1., 961.],\n",
       "        [  1., 962.],\n",
       "        [  1., 963.],\n",
       "        ...,\n",
       "        [  1., 325.],\n",
       "        [  1., 785.],\n",
       "        [  1., 721.]])"
      ]
     },
     "execution_count": 255,
     "metadata": {},
     "output_type": "execute_result"
    }
   ],
   "source": [
    "batch.x_dict['cell']"
   ]
  },
  {
   "cell_type": "code",
   "execution_count": 256,
   "id": "60f9aa45",
   "metadata": {},
   "outputs": [
    {
     "data": {
      "text/plain": [
       "1017"
      ]
     },
     "execution_count": 256,
     "metadata": {},
     "output_type": "execute_result"
    }
   ],
   "source": [
    "len(batch.x_dict['cell'])"
   ]
  },
  {
   "cell_type": "code",
   "execution_count": 129,
   "id": "48d145d7-a5ab-49e8-96e0-ec0d30f99310",
   "metadata": {
    "execution": {
     "iopub.execute_input": "2023-06-23T17:20:18.443069Z",
     "iopub.status.busy": "2023-06-23T17:20:18.442785Z",
     "iopub.status.idle": "2023-06-23T17:20:18.447314Z",
     "shell.execute_reply": "2023-06-23T17:20:18.446848Z",
     "shell.execute_reply.started": "2023-06-23T17:20:18.443049Z"
    },
    "tags": []
   },
   "outputs": [],
   "source": [
    "@torch.no_grad()\n",
    "def predict(loader, subset):\n",
    "    model.eval()\n",
    "    out_pred = {}\n",
    "    j = 1\n",
    "    for batch in tqdm(loader):\n",
    "        out_pred = model(batch.x_dict, batch.edge_index_dict, batch.edge_weight_dict)['cell']\n",
    "        np.save(\"../data/batch_multi_pred/batch_multi_prediction_\" + str(subset) + \"sub_\" + str(j),out_pred.detach().numpy())\n",
    "        j += 1 \n",
    "        del out_pred\n",
    "        gc.collect()"
   ]
  },
  {
   "cell_type": "code",
   "execution_count": null,
   "id": "c8b50b38",
   "metadata": {},
   "outputs": [],
   "source": [
    "#index_array = np.array(list(zip(multi_test_idxcol_sub, range(1,len(multi_test_idxcol_sub)+1))))\n",
    "#index_array_v2 = np.column_stack((multi_test_idxcol_sub, range(1,len(multi_test_idxcol_sub)+1)))"
   ]
  },
  {
   "cell_type": "code",
   "execution_count": 7,
   "id": "38d9e627-96b6-44ad-b6b9-ce28f3a5c38c",
   "metadata": {
    "execution": {
     "iopub.execute_input": "2023-06-23T17:20:18.448126Z",
     "iopub.status.busy": "2023-06-23T17:20:18.447900Z",
     "iopub.status.idle": "2023-06-23T17:44:01.375262Z",
     "shell.execute_reply": "2023-06-23T17:44:01.374681Z",
     "shell.execute_reply.started": "2023-06-23T17:20:18.448106Z"
    },
    "tags": []
   },
   "outputs": [
    {
     "name": "stdout",
     "output_type": "stream",
     "text": [
      "step 0\n",
      "step 1\n",
      "step 2\n"
     ]
    },
    {
     "name": "stderr",
     "output_type": "stream",
     "text": [
      "100%|██████████| 146/146 [04:13<00:00,  1.74s/it]\n"
     ]
    },
    {
     "name": "stdout",
     "output_type": "stream",
     "text": [
      "step 0\n",
      "step 1\n",
      "step 2\n"
     ]
    },
    {
     "name": "stderr",
     "output_type": "stream",
     "text": [
      "100%|██████████| 146/146 [04:13<00:00,  1.73s/it]\n"
     ]
    },
    {
     "name": "stdout",
     "output_type": "stream",
     "text": [
      "step 0\n",
      "step 1\n",
      "step 2\n"
     ]
    },
    {
     "name": "stderr",
     "output_type": "stream",
     "text": [
      "100%|██████████| 146/146 [04:14<00:00,  1.74s/it]\n"
     ]
    }
   ],
   "source": [
    "cell_size = 15000\n",
    "n_groups = multi_test.shape[0]//cell_size\n",
    "numbers = list(range(multi_test.shape[0]))\n",
    "random.seed(42)\n",
    "random.shuffle(numbers)\n",
    "groups_pred = [numbers[i::n_groups] for i in range(n_groups)]\n",
    "l = 1\n",
    "#out_pred = {}\n",
    "for i in groups_pred:\n",
    "    print(\"step 0\")\n",
    "    data_pred = create_graph_pred(multi_test, i)\n",
    "    print(\"step 1\")\n",
    "    model = GNN(hidden_channels=64, out_channels= 23418)\n",
    "    model = to_hetero(model, data_pred.metadata(), aggr='mean')\n",
    "    model.load_state_dict(state_dict)\n",
    "    print(\"step 2\")\n",
    "    predict_loader = NeighborLoader(data_pred, \n",
    "                                num_neighbors=[30] * 2, \n",
    "                                input_nodes=('cell'),\n",
    "                                batch_size=128)   \n",
    "\n",
    "    predict(predict_loader, l)\n",
    "    del data_pred\n",
    "    del predict_loader\n",
    "    gc.collect()\n",
    "    l += 1"
   ]
  },
  {
   "cell_type": "code",
   "execution_count": null,
   "id": "b1761afb",
   "metadata": {},
   "outputs": [],
   "source": [
    "####################"
   ]
  },
  {
   "cell_type": "code",
   "execution_count": 2,
   "id": "a5f83c71",
   "metadata": {
    "execution": {
     "iopub.execute_input": "2023-08-12T21:13:30.527173Z",
     "iopub.status.busy": "2023-08-12T21:13:30.526686Z",
     "iopub.status.idle": "2023-08-12T21:13:30.531625Z",
     "shell.execute_reply": "2023-08-12T21:13:30.530999Z",
     "shell.execute_reply.started": "2023-08-12T21:13:30.527146Z"
    },
    "tags": []
   },
   "outputs": [],
   "source": [
    "PREDICTION_PATH = '../data/batch_multi_pred/*.npy'\n",
    "file_list = glob.glob(PREDICTION_PATH)\n"
   ]
  },
  {
   "cell_type": "code",
   "execution_count": 3,
   "id": "cdfa1ef8",
   "metadata": {
    "execution": {
     "iopub.execute_input": "2023-08-12T21:13:30.534028Z",
     "iopub.status.busy": "2023-08-12T21:13:30.533753Z",
     "iopub.status.idle": "2023-08-12T21:13:30.537766Z",
     "shell.execute_reply": "2023-08-12T21:13:30.537170Z",
     "shell.execute_reply.started": "2023-08-12T21:13:30.534008Z"
    },
    "tags": []
   },
   "outputs": [],
   "source": [
    "import re\n",
    "\n",
    "def atoi(text):\n",
    "    return int(text) if text.isdigit() else text\n",
    "\n",
    "def natural_keys(text):\n",
    "    '''\n",
    "    alist.sort(key=natural_keys) sorts in human order\n",
    "    http://nedbatchelder.com/blog/200712/human_sorting.html\n",
    "    '''\n",
    "    return [ atoi(c) for c in re.split(r'(\\d+)', text) ]\n"
   ]
  },
  {
   "cell_type": "code",
   "execution_count": 4,
   "id": "b36207f3",
   "metadata": {
    "execution": {
     "iopub.execute_input": "2023-08-12T21:13:30.539003Z",
     "iopub.status.busy": "2023-08-12T21:13:30.538768Z",
     "iopub.status.idle": "2023-08-12T21:13:30.544058Z",
     "shell.execute_reply": "2023-08-12T21:13:30.543427Z",
     "shell.execute_reply.started": "2023-08-12T21:13:30.538985Z"
    },
    "tags": []
   },
   "outputs": [],
   "source": [
    "file_list.sort(key=natural_keys)"
   ]
  },
  {
   "cell_type": "code",
   "execution_count": 5,
   "id": "aab8f87b-d933-43b4-b238-24e54fd9fd2b",
   "metadata": {
    "collapsed": true,
    "execution": {
     "iopub.execute_input": "2023-08-12T21:13:30.544883Z",
     "iopub.status.busy": "2023-08-12T21:13:30.544682Z",
     "iopub.status.idle": "2023-08-12T21:13:34.457147Z",
     "shell.execute_reply": "2023-08-12T21:13:34.456582Z",
     "shell.execute_reply.started": "2023-08-12T21:13:30.544864Z"
    },
    "jupyter": {
     "outputs_hidden": true
    },
    "tags": []
   },
   "outputs": [
    {
     "name": "stdout",
     "output_type": "stream",
     "text": [
      "./data/batch_multi_pred/batch_multi_prediction_1sub_1.npy\n",
      "./data/batch_multi_pred/batch_multi_prediction_1sub_2.npy\n",
      "./data/batch_multi_pred/batch_multi_prediction_1sub_3.npy\n",
      "./data/batch_multi_pred/batch_multi_prediction_1sub_4.npy\n",
      "./data/batch_multi_pred/batch_multi_prediction_1sub_5.npy\n",
      "./data/batch_multi_pred/batch_multi_prediction_1sub_6.npy\n",
      "./data/batch_multi_pred/batch_multi_prediction_1sub_7.npy\n",
      "./data/batch_multi_pred/batch_multi_prediction_1sub_8.npy\n",
      "./data/batch_multi_pred/batch_multi_prediction_1sub_9.npy\n",
      "./data/batch_multi_pred/batch_multi_prediction_1sub_10.npy\n",
      "./data/batch_multi_pred/batch_multi_prediction_1sub_11.npy\n",
      "./data/batch_multi_pred/batch_multi_prediction_1sub_12.npy\n",
      "./data/batch_multi_pred/batch_multi_prediction_1sub_13.npy\n",
      "./data/batch_multi_pred/batch_multi_prediction_1sub_14.npy\n",
      "./data/batch_multi_pred/batch_multi_prediction_1sub_15.npy\n",
      "./data/batch_multi_pred/batch_multi_prediction_1sub_16.npy\n",
      "./data/batch_multi_pred/batch_multi_prediction_1sub_17.npy\n",
      "./data/batch_multi_pred/batch_multi_prediction_1sub_18.npy\n",
      "./data/batch_multi_pred/batch_multi_prediction_1sub_19.npy\n",
      "./data/batch_multi_pred/batch_multi_prediction_1sub_20.npy\n",
      "./data/batch_multi_pred/batch_multi_prediction_1sub_21.npy\n",
      "./data/batch_multi_pred/batch_multi_prediction_1sub_22.npy\n",
      "./data/batch_multi_pred/batch_multi_prediction_1sub_23.npy\n",
      "./data/batch_multi_pred/batch_multi_prediction_1sub_24.npy\n",
      "./data/batch_multi_pred/batch_multi_prediction_1sub_25.npy\n",
      "./data/batch_multi_pred/batch_multi_prediction_1sub_26.npy\n",
      "./data/batch_multi_pred/batch_multi_prediction_1sub_27.npy\n",
      "./data/batch_multi_pred/batch_multi_prediction_1sub_28.npy\n",
      "./data/batch_multi_pred/batch_multi_prediction_1sub_29.npy\n",
      "./data/batch_multi_pred/batch_multi_prediction_1sub_30.npy\n",
      "./data/batch_multi_pred/batch_multi_prediction_1sub_31.npy\n",
      "./data/batch_multi_pred/batch_multi_prediction_1sub_32.npy\n",
      "./data/batch_multi_pred/batch_multi_prediction_1sub_33.npy\n",
      "./data/batch_multi_pred/batch_multi_prediction_1sub_34.npy\n",
      "./data/batch_multi_pred/batch_multi_prediction_1sub_35.npy\n",
      "./data/batch_multi_pred/batch_multi_prediction_1sub_36.npy\n",
      "./data/batch_multi_pred/batch_multi_prediction_1sub_37.npy\n",
      "./data/batch_multi_pred/batch_multi_prediction_1sub_38.npy\n",
      "./data/batch_multi_pred/batch_multi_prediction_1sub_39.npy\n",
      "./data/batch_multi_pred/batch_multi_prediction_1sub_40.npy\n",
      "./data/batch_multi_pred/batch_multi_prediction_1sub_41.npy\n",
      "./data/batch_multi_pred/batch_multi_prediction_1sub_42.npy\n",
      "./data/batch_multi_pred/batch_multi_prediction_1sub_43.npy\n",
      "./data/batch_multi_pred/batch_multi_prediction_1sub_44.npy\n",
      "./data/batch_multi_pred/batch_multi_prediction_1sub_45.npy\n",
      "./data/batch_multi_pred/batch_multi_prediction_1sub_46.npy\n",
      "./data/batch_multi_pred/batch_multi_prediction_1sub_47.npy\n",
      "./data/batch_multi_pred/batch_multi_prediction_1sub_48.npy\n",
      "./data/batch_multi_pred/batch_multi_prediction_1sub_49.npy\n",
      "./data/batch_multi_pred/batch_multi_prediction_1sub_50.npy\n",
      "./data/batch_multi_pred/batch_multi_prediction_1sub_51.npy\n",
      "./data/batch_multi_pred/batch_multi_prediction_1sub_52.npy\n",
      "./data/batch_multi_pred/batch_multi_prediction_1sub_53.npy\n",
      "./data/batch_multi_pred/batch_multi_prediction_1sub_54.npy\n",
      "./data/batch_multi_pred/batch_multi_prediction_1sub_55.npy\n",
      "./data/batch_multi_pred/batch_multi_prediction_1sub_56.npy\n",
      "./data/batch_multi_pred/batch_multi_prediction_1sub_57.npy\n",
      "./data/batch_multi_pred/batch_multi_prediction_1sub_58.npy\n",
      "./data/batch_multi_pred/batch_multi_prediction_1sub_59.npy\n",
      "./data/batch_multi_pred/batch_multi_prediction_1sub_60.npy\n",
      "./data/batch_multi_pred/batch_multi_prediction_1sub_61.npy\n",
      "./data/batch_multi_pred/batch_multi_prediction_1sub_62.npy\n",
      "./data/batch_multi_pred/batch_multi_prediction_1sub_63.npy\n",
      "./data/batch_multi_pred/batch_multi_prediction_1sub_64.npy\n",
      "./data/batch_multi_pred/batch_multi_prediction_1sub_65.npy\n",
      "./data/batch_multi_pred/batch_multi_prediction_1sub_66.npy\n",
      "./data/batch_multi_pred/batch_multi_prediction_1sub_67.npy\n",
      "./data/batch_multi_pred/batch_multi_prediction_1sub_68.npy\n",
      "./data/batch_multi_pred/batch_multi_prediction_1sub_69.npy\n",
      "./data/batch_multi_pred/batch_multi_prediction_1sub_70.npy\n",
      "./data/batch_multi_pred/batch_multi_prediction_1sub_71.npy\n",
      "./data/batch_multi_pred/batch_multi_prediction_1sub_72.npy\n",
      "./data/batch_multi_pred/batch_multi_prediction_1sub_73.npy\n",
      "./data/batch_multi_pred/batch_multi_prediction_1sub_74.npy\n",
      "./data/batch_multi_pred/batch_multi_prediction_1sub_75.npy\n",
      "./data/batch_multi_pred/batch_multi_prediction_1sub_76.npy\n",
      "./data/batch_multi_pred/batch_multi_prediction_1sub_77.npy\n",
      "./data/batch_multi_pred/batch_multi_prediction_1sub_78.npy\n",
      "./data/batch_multi_pred/batch_multi_prediction_1sub_79.npy\n",
      "./data/batch_multi_pred/batch_multi_prediction_1sub_80.npy\n",
      "./data/batch_multi_pred/batch_multi_prediction_1sub_81.npy\n",
      "./data/batch_multi_pred/batch_multi_prediction_1sub_82.npy\n",
      "./data/batch_multi_pred/batch_multi_prediction_1sub_83.npy\n",
      "./data/batch_multi_pred/batch_multi_prediction_1sub_84.npy\n",
      "./data/batch_multi_pred/batch_multi_prediction_1sub_85.npy\n",
      "./data/batch_multi_pred/batch_multi_prediction_1sub_86.npy\n",
      "./data/batch_multi_pred/batch_multi_prediction_1sub_87.npy\n",
      "./data/batch_multi_pred/batch_multi_prediction_1sub_88.npy\n",
      "./data/batch_multi_pred/batch_multi_prediction_1sub_89.npy\n",
      "./data/batch_multi_pred/batch_multi_prediction_1sub_90.npy\n",
      "./data/batch_multi_pred/batch_multi_prediction_1sub_91.npy\n",
      "./data/batch_multi_pred/batch_multi_prediction_1sub_92.npy\n",
      "./data/batch_multi_pred/batch_multi_prediction_1sub_93.npy\n",
      "./data/batch_multi_pred/batch_multi_prediction_1sub_94.npy\n",
      "./data/batch_multi_pred/batch_multi_prediction_1sub_95.npy\n",
      "./data/batch_multi_pred/batch_multi_prediction_1sub_96.npy\n",
      "./data/batch_multi_pred/batch_multi_prediction_1sub_97.npy\n",
      "./data/batch_multi_pred/batch_multi_prediction_1sub_98.npy\n",
      "./data/batch_multi_pred/batch_multi_prediction_1sub_99.npy\n",
      "./data/batch_multi_pred/batch_multi_prediction_1sub_100.npy\n",
      "./data/batch_multi_pred/batch_multi_prediction_1sub_101.npy\n",
      "./data/batch_multi_pred/batch_multi_prediction_1sub_102.npy\n",
      "./data/batch_multi_pred/batch_multi_prediction_1sub_103.npy\n",
      "./data/batch_multi_pred/batch_multi_prediction_1sub_104.npy\n",
      "./data/batch_multi_pred/batch_multi_prediction_1sub_105.npy\n",
      "./data/batch_multi_pred/batch_multi_prediction_1sub_106.npy\n",
      "./data/batch_multi_pred/batch_multi_prediction_1sub_107.npy\n",
      "./data/batch_multi_pred/batch_multi_prediction_1sub_108.npy\n",
      "./data/batch_multi_pred/batch_multi_prediction_1sub_109.npy\n",
      "./data/batch_multi_pred/batch_multi_prediction_1sub_110.npy\n",
      "./data/batch_multi_pred/batch_multi_prediction_1sub_111.npy\n",
      "./data/batch_multi_pred/batch_multi_prediction_1sub_112.npy\n",
      "./data/batch_multi_pred/batch_multi_prediction_1sub_113.npy\n",
      "./data/batch_multi_pred/batch_multi_prediction_1sub_114.npy\n",
      "./data/batch_multi_pred/batch_multi_prediction_1sub_115.npy\n",
      "./data/batch_multi_pred/batch_multi_prediction_1sub_116.npy\n",
      "./data/batch_multi_pred/batch_multi_prediction_1sub_117.npy\n",
      "./data/batch_multi_pred/batch_multi_prediction_1sub_118.npy\n",
      "./data/batch_multi_pred/batch_multi_prediction_1sub_119.npy\n",
      "./data/batch_multi_pred/batch_multi_prediction_1sub_120.npy\n",
      "./data/batch_multi_pred/batch_multi_prediction_1sub_121.npy\n",
      "./data/batch_multi_pred/batch_multi_prediction_1sub_122.npy\n",
      "./data/batch_multi_pred/batch_multi_prediction_1sub_123.npy\n",
      "./data/batch_multi_pred/batch_multi_prediction_1sub_124.npy\n",
      "./data/batch_multi_pred/batch_multi_prediction_1sub_125.npy\n",
      "./data/batch_multi_pred/batch_multi_prediction_1sub_126.npy\n",
      "./data/batch_multi_pred/batch_multi_prediction_1sub_127.npy\n",
      "./data/batch_multi_pred/batch_multi_prediction_1sub_128.npy\n",
      "./data/batch_multi_pred/batch_multi_prediction_1sub_129.npy\n",
      "./data/batch_multi_pred/batch_multi_prediction_1sub_130.npy\n",
      "./data/batch_multi_pred/batch_multi_prediction_1sub_131.npy\n",
      "./data/batch_multi_pred/batch_multi_prediction_1sub_132.npy\n",
      "./data/batch_multi_pred/batch_multi_prediction_1sub_133.npy\n",
      "./data/batch_multi_pred/batch_multi_prediction_1sub_134.npy\n",
      "./data/batch_multi_pred/batch_multi_prediction_1sub_135.npy\n",
      "./data/batch_multi_pred/batch_multi_prediction_1sub_136.npy\n",
      "./data/batch_multi_pred/batch_multi_prediction_1sub_137.npy\n",
      "./data/batch_multi_pred/batch_multi_prediction_1sub_138.npy\n",
      "./data/batch_multi_pred/batch_multi_prediction_1sub_139.npy\n",
      "./data/batch_multi_pred/batch_multi_prediction_1sub_140.npy\n",
      "./data/batch_multi_pred/batch_multi_prediction_1sub_141.npy\n",
      "./data/batch_multi_pred/batch_multi_prediction_1sub_142.npy\n",
      "./data/batch_multi_pred/batch_multi_prediction_1sub_143.npy\n",
      "./data/batch_multi_pred/batch_multi_prediction_1sub_144.npy\n",
      "./data/batch_multi_pred/batch_multi_prediction_1sub_145.npy\n",
      "./data/batch_multi_pred/batch_multi_prediction_1sub_146.npy\n",
      "./data/batch_multi_pred/batch_multi_prediction_2sub_1.npy\n",
      "./data/batch_multi_pred/batch_multi_prediction_2sub_2.npy\n",
      "./data/batch_multi_pred/batch_multi_prediction_2sub_3.npy\n",
      "./data/batch_multi_pred/batch_multi_prediction_2sub_4.npy\n",
      "./data/batch_multi_pred/batch_multi_prediction_2sub_5.npy\n",
      "./data/batch_multi_pred/batch_multi_prediction_2sub_6.npy\n",
      "./data/batch_multi_pred/batch_multi_prediction_2sub_7.npy\n",
      "./data/batch_multi_pred/batch_multi_prediction_2sub_8.npy\n",
      "./data/batch_multi_pred/batch_multi_prediction_2sub_9.npy\n",
      "./data/batch_multi_pred/batch_multi_prediction_2sub_10.npy\n",
      "./data/batch_multi_pred/batch_multi_prediction_2sub_11.npy\n",
      "./data/batch_multi_pred/batch_multi_prediction_2sub_12.npy\n",
      "./data/batch_multi_pred/batch_multi_prediction_2sub_13.npy\n",
      "./data/batch_multi_pred/batch_multi_prediction_2sub_14.npy\n",
      "./data/batch_multi_pred/batch_multi_prediction_2sub_15.npy\n",
      "./data/batch_multi_pred/batch_multi_prediction_2sub_16.npy\n",
      "./data/batch_multi_pred/batch_multi_prediction_2sub_17.npy\n",
      "./data/batch_multi_pred/batch_multi_prediction_2sub_18.npy\n",
      "./data/batch_multi_pred/batch_multi_prediction_2sub_19.npy\n",
      "./data/batch_multi_pred/batch_multi_prediction_2sub_20.npy\n",
      "./data/batch_multi_pred/batch_multi_prediction_2sub_21.npy\n",
      "./data/batch_multi_pred/batch_multi_prediction_2sub_22.npy\n",
      "./data/batch_multi_pred/batch_multi_prediction_2sub_23.npy\n",
      "./data/batch_multi_pred/batch_multi_prediction_2sub_24.npy\n",
      "./data/batch_multi_pred/batch_multi_prediction_2sub_25.npy\n",
      "./data/batch_multi_pred/batch_multi_prediction_2sub_26.npy\n",
      "./data/batch_multi_pred/batch_multi_prediction_2sub_27.npy\n",
      "./data/batch_multi_pred/batch_multi_prediction_2sub_28.npy\n",
      "./data/batch_multi_pred/batch_multi_prediction_2sub_29.npy\n",
      "./data/batch_multi_pred/batch_multi_prediction_2sub_30.npy\n",
      "./data/batch_multi_pred/batch_multi_prediction_2sub_31.npy\n",
      "./data/batch_multi_pred/batch_multi_prediction_2sub_32.npy\n",
      "./data/batch_multi_pred/batch_multi_prediction_2sub_33.npy\n",
      "./data/batch_multi_pred/batch_multi_prediction_2sub_34.npy\n",
      "./data/batch_multi_pred/batch_multi_prediction_2sub_35.npy\n",
      "./data/batch_multi_pred/batch_multi_prediction_2sub_36.npy\n",
      "./data/batch_multi_pred/batch_multi_prediction_2sub_37.npy\n",
      "./data/batch_multi_pred/batch_multi_prediction_2sub_38.npy\n",
      "./data/batch_multi_pred/batch_multi_prediction_2sub_39.npy\n",
      "./data/batch_multi_pred/batch_multi_prediction_2sub_40.npy\n",
      "./data/batch_multi_pred/batch_multi_prediction_2sub_41.npy\n",
      "./data/batch_multi_pred/batch_multi_prediction_2sub_42.npy\n",
      "./data/batch_multi_pred/batch_multi_prediction_2sub_43.npy\n",
      "./data/batch_multi_pred/batch_multi_prediction_2sub_44.npy\n",
      "./data/batch_multi_pred/batch_multi_prediction_2sub_45.npy\n",
      "./data/batch_multi_pred/batch_multi_prediction_2sub_46.npy\n",
      "./data/batch_multi_pred/batch_multi_prediction_2sub_47.npy\n",
      "./data/batch_multi_pred/batch_multi_prediction_2sub_48.npy\n",
      "./data/batch_multi_pred/batch_multi_prediction_2sub_49.npy\n",
      "./data/batch_multi_pred/batch_multi_prediction_2sub_50.npy\n",
      "./data/batch_multi_pred/batch_multi_prediction_2sub_51.npy\n",
      "./data/batch_multi_pred/batch_multi_prediction_2sub_52.npy\n",
      "./data/batch_multi_pred/batch_multi_prediction_2sub_53.npy\n",
      "./data/batch_multi_pred/batch_multi_prediction_2sub_54.npy\n",
      "./data/batch_multi_pred/batch_multi_prediction_2sub_55.npy\n",
      "./data/batch_multi_pred/batch_multi_prediction_2sub_56.npy\n",
      "./data/batch_multi_pred/batch_multi_prediction_2sub_57.npy\n",
      "./data/batch_multi_pred/batch_multi_prediction_2sub_58.npy\n",
      "./data/batch_multi_pred/batch_multi_prediction_2sub_59.npy\n",
      "./data/batch_multi_pred/batch_multi_prediction_2sub_60.npy\n",
      "./data/batch_multi_pred/batch_multi_prediction_2sub_61.npy\n",
      "./data/batch_multi_pred/batch_multi_prediction_2sub_62.npy\n",
      "./data/batch_multi_pred/batch_multi_prediction_2sub_63.npy\n",
      "./data/batch_multi_pred/batch_multi_prediction_2sub_64.npy\n",
      "./data/batch_multi_pred/batch_multi_prediction_2sub_65.npy\n",
      "./data/batch_multi_pred/batch_multi_prediction_2sub_66.npy\n",
      "./data/batch_multi_pred/batch_multi_prediction_2sub_67.npy\n",
      "./data/batch_multi_pred/batch_multi_prediction_2sub_68.npy\n",
      "./data/batch_multi_pred/batch_multi_prediction_2sub_69.npy\n",
      "./data/batch_multi_pred/batch_multi_prediction_2sub_70.npy\n",
      "./data/batch_multi_pred/batch_multi_prediction_2sub_71.npy\n",
      "./data/batch_multi_pred/batch_multi_prediction_2sub_72.npy\n",
      "./data/batch_multi_pred/batch_multi_prediction_2sub_73.npy\n",
      "./data/batch_multi_pred/batch_multi_prediction_2sub_74.npy\n",
      "./data/batch_multi_pred/batch_multi_prediction_2sub_75.npy\n",
      "./data/batch_multi_pred/batch_multi_prediction_2sub_76.npy\n",
      "./data/batch_multi_pred/batch_multi_prediction_2sub_77.npy\n",
      "./data/batch_multi_pred/batch_multi_prediction_2sub_78.npy\n",
      "./data/batch_multi_pred/batch_multi_prediction_2sub_79.npy\n",
      "./data/batch_multi_pred/batch_multi_prediction_2sub_80.npy\n",
      "./data/batch_multi_pred/batch_multi_prediction_2sub_81.npy\n",
      "./data/batch_multi_pred/batch_multi_prediction_2sub_82.npy\n",
      "./data/batch_multi_pred/batch_multi_prediction_2sub_83.npy\n",
      "./data/batch_multi_pred/batch_multi_prediction_2sub_84.npy\n",
      "./data/batch_multi_pred/batch_multi_prediction_2sub_85.npy\n",
      "./data/batch_multi_pred/batch_multi_prediction_2sub_86.npy\n",
      "./data/batch_multi_pred/batch_multi_prediction_2sub_87.npy\n",
      "./data/batch_multi_pred/batch_multi_prediction_2sub_88.npy\n",
      "./data/batch_multi_pred/batch_multi_prediction_2sub_89.npy\n",
      "./data/batch_multi_pred/batch_multi_prediction_2sub_90.npy\n",
      "./data/batch_multi_pred/batch_multi_prediction_2sub_91.npy\n",
      "./data/batch_multi_pred/batch_multi_prediction_2sub_92.npy\n",
      "./data/batch_multi_pred/batch_multi_prediction_2sub_93.npy\n",
      "./data/batch_multi_pred/batch_multi_prediction_2sub_94.npy\n",
      "./data/batch_multi_pred/batch_multi_prediction_2sub_95.npy\n",
      "./data/batch_multi_pred/batch_multi_prediction_2sub_96.npy\n",
      "./data/batch_multi_pred/batch_multi_prediction_2sub_97.npy\n",
      "./data/batch_multi_pred/batch_multi_prediction_2sub_98.npy\n",
      "./data/batch_multi_pred/batch_multi_prediction_2sub_99.npy\n",
      "./data/batch_multi_pred/batch_multi_prediction_2sub_100.npy\n",
      "./data/batch_multi_pred/batch_multi_prediction_2sub_101.npy\n",
      "./data/batch_multi_pred/batch_multi_prediction_2sub_102.npy\n",
      "./data/batch_multi_pred/batch_multi_prediction_2sub_103.npy\n",
      "./data/batch_multi_pred/batch_multi_prediction_2sub_104.npy\n",
      "./data/batch_multi_pred/batch_multi_prediction_2sub_105.npy\n",
      "./data/batch_multi_pred/batch_multi_prediction_2sub_106.npy\n",
      "./data/batch_multi_pred/batch_multi_prediction_2sub_107.npy\n",
      "./data/batch_multi_pred/batch_multi_prediction_2sub_108.npy\n",
      "./data/batch_multi_pred/batch_multi_prediction_2sub_109.npy\n",
      "./data/batch_multi_pred/batch_multi_prediction_2sub_110.npy\n",
      "./data/batch_multi_pred/batch_multi_prediction_2sub_111.npy\n",
      "./data/batch_multi_pred/batch_multi_prediction_2sub_112.npy\n",
      "./data/batch_multi_pred/batch_multi_prediction_2sub_113.npy\n",
      "./data/batch_multi_pred/batch_multi_prediction_2sub_114.npy\n",
      "./data/batch_multi_pred/batch_multi_prediction_2sub_115.npy\n",
      "./data/batch_multi_pred/batch_multi_prediction_2sub_116.npy\n",
      "./data/batch_multi_pred/batch_multi_prediction_2sub_117.npy\n",
      "./data/batch_multi_pred/batch_multi_prediction_2sub_118.npy\n",
      "./data/batch_multi_pred/batch_multi_prediction_2sub_119.npy\n",
      "./data/batch_multi_pred/batch_multi_prediction_2sub_120.npy\n",
      "./data/batch_multi_pred/batch_multi_prediction_2sub_121.npy\n",
      "./data/batch_multi_pred/batch_multi_prediction_2sub_122.npy\n",
      "./data/batch_multi_pred/batch_multi_prediction_2sub_123.npy\n",
      "./data/batch_multi_pred/batch_multi_prediction_2sub_124.npy\n",
      "./data/batch_multi_pred/batch_multi_prediction_2sub_125.npy\n",
      "./data/batch_multi_pred/batch_multi_prediction_2sub_126.npy\n",
      "./data/batch_multi_pred/batch_multi_prediction_2sub_127.npy\n",
      "./data/batch_multi_pred/batch_multi_prediction_2sub_128.npy\n",
      "./data/batch_multi_pred/batch_multi_prediction_2sub_129.npy\n",
      "./data/batch_multi_pred/batch_multi_prediction_2sub_130.npy\n",
      "./data/batch_multi_pred/batch_multi_prediction_2sub_131.npy\n",
      "./data/batch_multi_pred/batch_multi_prediction_2sub_132.npy\n",
      "./data/batch_multi_pred/batch_multi_prediction_2sub_133.npy\n",
      "./data/batch_multi_pred/batch_multi_prediction_2sub_134.npy\n",
      "./data/batch_multi_pred/batch_multi_prediction_2sub_135.npy\n",
      "./data/batch_multi_pred/batch_multi_prediction_2sub_136.npy\n",
      "./data/batch_multi_pred/batch_multi_prediction_2sub_137.npy\n",
      "./data/batch_multi_pred/batch_multi_prediction_2sub_138.npy\n",
      "./data/batch_multi_pred/batch_multi_prediction_2sub_139.npy\n",
      "./data/batch_multi_pred/batch_multi_prediction_2sub_140.npy\n",
      "./data/batch_multi_pred/batch_multi_prediction_2sub_141.npy\n",
      "./data/batch_multi_pred/batch_multi_prediction_2sub_142.npy\n",
      "./data/batch_multi_pred/batch_multi_prediction_2sub_143.npy\n",
      "./data/batch_multi_pred/batch_multi_prediction_2sub_144.npy\n",
      "./data/batch_multi_pred/batch_multi_prediction_2sub_145.npy\n",
      "./data/batch_multi_pred/batch_multi_prediction_2sub_146.npy\n",
      "./data/batch_multi_pred/batch_multi_prediction_3sub_1.npy\n",
      "./data/batch_multi_pred/batch_multi_prediction_3sub_2.npy\n",
      "./data/batch_multi_pred/batch_multi_prediction_3sub_3.npy\n",
      "./data/batch_multi_pred/batch_multi_prediction_3sub_4.npy\n",
      "./data/batch_multi_pred/batch_multi_prediction_3sub_5.npy\n",
      "./data/batch_multi_pred/batch_multi_prediction_3sub_6.npy\n",
      "./data/batch_multi_pred/batch_multi_prediction_3sub_7.npy\n",
      "./data/batch_multi_pred/batch_multi_prediction_3sub_8.npy\n",
      "./data/batch_multi_pred/batch_multi_prediction_3sub_9.npy\n",
      "./data/batch_multi_pred/batch_multi_prediction_3sub_10.npy\n",
      "./data/batch_multi_pred/batch_multi_prediction_3sub_11.npy\n",
      "./data/batch_multi_pred/batch_multi_prediction_3sub_12.npy\n",
      "./data/batch_multi_pred/batch_multi_prediction_3sub_13.npy\n",
      "./data/batch_multi_pred/batch_multi_prediction_3sub_14.npy\n",
      "./data/batch_multi_pred/batch_multi_prediction_3sub_15.npy\n",
      "./data/batch_multi_pred/batch_multi_prediction_3sub_16.npy\n",
      "./data/batch_multi_pred/batch_multi_prediction_3sub_17.npy\n",
      "./data/batch_multi_pred/batch_multi_prediction_3sub_18.npy\n",
      "./data/batch_multi_pred/batch_multi_prediction_3sub_19.npy\n",
      "./data/batch_multi_pred/batch_multi_prediction_3sub_20.npy\n",
      "./data/batch_multi_pred/batch_multi_prediction_3sub_21.npy\n",
      "./data/batch_multi_pred/batch_multi_prediction_3sub_22.npy\n",
      "./data/batch_multi_pred/batch_multi_prediction_3sub_23.npy\n",
      "./data/batch_multi_pred/batch_multi_prediction_3sub_24.npy\n",
      "./data/batch_multi_pred/batch_multi_prediction_3sub_25.npy\n",
      "./data/batch_multi_pred/batch_multi_prediction_3sub_26.npy\n",
      "./data/batch_multi_pred/batch_multi_prediction_3sub_27.npy\n",
      "./data/batch_multi_pred/batch_multi_prediction_3sub_28.npy\n",
      "./data/batch_multi_pred/batch_multi_prediction_3sub_29.npy\n",
      "./data/batch_multi_pred/batch_multi_prediction_3sub_30.npy\n",
      "./data/batch_multi_pred/batch_multi_prediction_3sub_31.npy\n",
      "./data/batch_multi_pred/batch_multi_prediction_3sub_32.npy\n",
      "./data/batch_multi_pred/batch_multi_prediction_3sub_33.npy\n",
      "./data/batch_multi_pred/batch_multi_prediction_3sub_34.npy\n",
      "./data/batch_multi_pred/batch_multi_prediction_3sub_35.npy\n",
      "./data/batch_multi_pred/batch_multi_prediction_3sub_36.npy\n",
      "./data/batch_multi_pred/batch_multi_prediction_3sub_37.npy\n",
      "./data/batch_multi_pred/batch_multi_prediction_3sub_38.npy\n",
      "./data/batch_multi_pred/batch_multi_prediction_3sub_39.npy\n",
      "./data/batch_multi_pred/batch_multi_prediction_3sub_40.npy\n",
      "./data/batch_multi_pred/batch_multi_prediction_3sub_41.npy\n",
      "./data/batch_multi_pred/batch_multi_prediction_3sub_42.npy\n",
      "./data/batch_multi_pred/batch_multi_prediction_3sub_43.npy\n",
      "./data/batch_multi_pred/batch_multi_prediction_3sub_44.npy\n",
      "./data/batch_multi_pred/batch_multi_prediction_3sub_45.npy\n",
      "./data/batch_multi_pred/batch_multi_prediction_3sub_46.npy\n",
      "./data/batch_multi_pred/batch_multi_prediction_3sub_47.npy\n",
      "./data/batch_multi_pred/batch_multi_prediction_3sub_48.npy\n",
      "./data/batch_multi_pred/batch_multi_prediction_3sub_49.npy\n",
      "./data/batch_multi_pred/batch_multi_prediction_3sub_50.npy\n",
      "./data/batch_multi_pred/batch_multi_prediction_3sub_51.npy\n",
      "./data/batch_multi_pred/batch_multi_prediction_3sub_52.npy\n",
      "./data/batch_multi_pred/batch_multi_prediction_3sub_53.npy\n",
      "./data/batch_multi_pred/batch_multi_prediction_3sub_54.npy\n",
      "./data/batch_multi_pred/batch_multi_prediction_3sub_55.npy\n",
      "./data/batch_multi_pred/batch_multi_prediction_3sub_56.npy\n",
      "./data/batch_multi_pred/batch_multi_prediction_3sub_57.npy\n",
      "./data/batch_multi_pred/batch_multi_prediction_3sub_58.npy\n",
      "./data/batch_multi_pred/batch_multi_prediction_3sub_59.npy\n",
      "./data/batch_multi_pred/batch_multi_prediction_3sub_60.npy\n",
      "./data/batch_multi_pred/batch_multi_prediction_3sub_61.npy\n",
      "./data/batch_multi_pred/batch_multi_prediction_3sub_62.npy\n",
      "./data/batch_multi_pred/batch_multi_prediction_3sub_63.npy\n",
      "./data/batch_multi_pred/batch_multi_prediction_3sub_64.npy\n",
      "./data/batch_multi_pred/batch_multi_prediction_3sub_65.npy\n",
      "./data/batch_multi_pred/batch_multi_prediction_3sub_66.npy\n",
      "./data/batch_multi_pred/batch_multi_prediction_3sub_67.npy\n",
      "./data/batch_multi_pred/batch_multi_prediction_3sub_68.npy\n",
      "./data/batch_multi_pred/batch_multi_prediction_3sub_69.npy\n",
      "./data/batch_multi_pred/batch_multi_prediction_3sub_70.npy\n",
      "./data/batch_multi_pred/batch_multi_prediction_3sub_71.npy\n",
      "./data/batch_multi_pred/batch_multi_prediction_3sub_72.npy\n",
      "./data/batch_multi_pred/batch_multi_prediction_3sub_73.npy\n",
      "./data/batch_multi_pred/batch_multi_prediction_3sub_74.npy\n",
      "./data/batch_multi_pred/batch_multi_prediction_3sub_75.npy\n",
      "./data/batch_multi_pred/batch_multi_prediction_3sub_76.npy\n",
      "./data/batch_multi_pred/batch_multi_prediction_3sub_77.npy\n",
      "./data/batch_multi_pred/batch_multi_prediction_3sub_78.npy\n",
      "./data/batch_multi_pred/batch_multi_prediction_3sub_79.npy\n",
      "./data/batch_multi_pred/batch_multi_prediction_3sub_80.npy\n",
      "./data/batch_multi_pred/batch_multi_prediction_3sub_81.npy\n",
      "./data/batch_multi_pred/batch_multi_prediction_3sub_82.npy\n",
      "./data/batch_multi_pred/batch_multi_prediction_3sub_83.npy\n",
      "./data/batch_multi_pred/batch_multi_prediction_3sub_84.npy\n",
      "./data/batch_multi_pred/batch_multi_prediction_3sub_85.npy\n",
      "./data/batch_multi_pred/batch_multi_prediction_3sub_86.npy\n",
      "./data/batch_multi_pred/batch_multi_prediction_3sub_87.npy\n",
      "./data/batch_multi_pred/batch_multi_prediction_3sub_88.npy\n",
      "./data/batch_multi_pred/batch_multi_prediction_3sub_89.npy\n",
      "./data/batch_multi_pred/batch_multi_prediction_3sub_90.npy\n",
      "./data/batch_multi_pred/batch_multi_prediction_3sub_91.npy\n",
      "./data/batch_multi_pred/batch_multi_prediction_3sub_92.npy\n",
      "./data/batch_multi_pred/batch_multi_prediction_3sub_93.npy\n",
      "./data/batch_multi_pred/batch_multi_prediction_3sub_94.npy\n",
      "./data/batch_multi_pred/batch_multi_prediction_3sub_95.npy\n",
      "./data/batch_multi_pred/batch_multi_prediction_3sub_96.npy\n",
      "./data/batch_multi_pred/batch_multi_prediction_3sub_97.npy\n",
      "./data/batch_multi_pred/batch_multi_prediction_3sub_98.npy\n",
      "./data/batch_multi_pred/batch_multi_prediction_3sub_99.npy\n",
      "./data/batch_multi_pred/batch_multi_prediction_3sub_100.npy\n",
      "./data/batch_multi_pred/batch_multi_prediction_3sub_101.npy\n",
      "./data/batch_multi_pred/batch_multi_prediction_3sub_102.npy\n",
      "./data/batch_multi_pred/batch_multi_prediction_3sub_103.npy\n",
      "./data/batch_multi_pred/batch_multi_prediction_3sub_104.npy\n",
      "./data/batch_multi_pred/batch_multi_prediction_3sub_105.npy\n",
      "./data/batch_multi_pred/batch_multi_prediction_3sub_106.npy\n",
      "./data/batch_multi_pred/batch_multi_prediction_3sub_107.npy\n",
      "./data/batch_multi_pred/batch_multi_prediction_3sub_108.npy\n",
      "./data/batch_multi_pred/batch_multi_prediction_3sub_109.npy\n",
      "./data/batch_multi_pred/batch_multi_prediction_3sub_110.npy\n",
      "./data/batch_multi_pred/batch_multi_prediction_3sub_111.npy\n",
      "./data/batch_multi_pred/batch_multi_prediction_3sub_112.npy\n",
      "./data/batch_multi_pred/batch_multi_prediction_3sub_113.npy\n",
      "./data/batch_multi_pred/batch_multi_prediction_3sub_114.npy\n",
      "./data/batch_multi_pred/batch_multi_prediction_3sub_115.npy\n",
      "./data/batch_multi_pred/batch_multi_prediction_3sub_116.npy\n",
      "./data/batch_multi_pred/batch_multi_prediction_3sub_117.npy\n",
      "./data/batch_multi_pred/batch_multi_prediction_3sub_118.npy\n",
      "./data/batch_multi_pred/batch_multi_prediction_3sub_119.npy\n",
      "./data/batch_multi_pred/batch_multi_prediction_3sub_120.npy\n",
      "./data/batch_multi_pred/batch_multi_prediction_3sub_121.npy\n",
      "./data/batch_multi_pred/batch_multi_prediction_3sub_122.npy\n",
      "./data/batch_multi_pred/batch_multi_prediction_3sub_123.npy\n",
      "./data/batch_multi_pred/batch_multi_prediction_3sub_124.npy\n",
      "./data/batch_multi_pred/batch_multi_prediction_3sub_125.npy\n",
      "./data/batch_multi_pred/batch_multi_prediction_3sub_126.npy\n",
      "./data/batch_multi_pred/batch_multi_prediction_3sub_127.npy\n",
      "./data/batch_multi_pred/batch_multi_prediction_3sub_128.npy\n",
      "./data/batch_multi_pred/batch_multi_prediction_3sub_129.npy\n",
      "./data/batch_multi_pred/batch_multi_prediction_3sub_130.npy\n",
      "./data/batch_multi_pred/batch_multi_prediction_3sub_131.npy\n",
      "./data/batch_multi_pred/batch_multi_prediction_3sub_132.npy\n",
      "./data/batch_multi_pred/batch_multi_prediction_3sub_133.npy\n",
      "./data/batch_multi_pred/batch_multi_prediction_3sub_134.npy\n",
      "./data/batch_multi_pred/batch_multi_prediction_3sub_135.npy\n",
      "./data/batch_multi_pred/batch_multi_prediction_3sub_136.npy\n",
      "./data/batch_multi_pred/batch_multi_prediction_3sub_137.npy\n",
      "./data/batch_multi_pred/batch_multi_prediction_3sub_138.npy\n",
      "./data/batch_multi_pred/batch_multi_prediction_3sub_139.npy\n",
      "./data/batch_multi_pred/batch_multi_prediction_3sub_140.npy\n",
      "./data/batch_multi_pred/batch_multi_prediction_3sub_141.npy\n",
      "./data/batch_multi_pred/batch_multi_prediction_3sub_142.npy\n",
      "./data/batch_multi_pred/batch_multi_prediction_3sub_143.npy\n",
      "./data/batch_multi_pred/batch_multi_prediction_3sub_144.npy\n",
      "./data/batch_multi_pred/batch_multi_prediction_3sub_145.npy\n",
      "./data/batch_multi_pred/batch_multi_prediction_3sub_146.npy\n"
     ]
    }
   ],
   "source": [
    "# Initialize an empty list to store the data from each file\n",
    "data_list = []\n",
    "# Loop through each file and load its data into the list\n",
    "for file in file_list:\n",
    "    print(file)\n",
    "    data = np.load(file)\n",
    "    data_list.append(data)\n",
    "\n",
    "# Merge the data from all files into a single NumPy array\n",
    "merged_data = np.concatenate(data_list)\n",
    "# Create a data frame using the merged data\n",
    "df_pred = pd.DataFrame(merged_data)"
   ]
  },
  {
   "cell_type": "code",
   "execution_count": 6,
   "id": "5b04b72c",
   "metadata": {
    "execution": {
     "iopub.execute_input": "2023-08-12T21:13:34.458212Z",
     "iopub.status.busy": "2023-08-12T21:13:34.457929Z",
     "iopub.status.idle": "2023-08-12T21:13:34.461300Z",
     "shell.execute_reply": "2023-08-12T21:13:34.460831Z",
     "shell.execute_reply.started": "2023-08-12T21:13:34.458191Z"
    },
    "tags": []
   },
   "outputs": [],
   "source": [
    "IDX_PREDICTION_PATH = '../data/batch_multi_pred_idx/idx*.npy'\n",
    "idx_file_list = glob.glob(IDX_PREDICTION_PATH)"
   ]
  },
  {
   "cell_type": "code",
   "execution_count": 7,
   "id": "50a99ea0",
   "metadata": {
    "execution": {
     "iopub.execute_input": "2023-08-12T21:13:34.462708Z",
     "iopub.status.busy": "2023-08-12T21:13:34.462448Z",
     "iopub.status.idle": "2023-08-12T21:13:34.466867Z",
     "shell.execute_reply": "2023-08-12T21:13:34.466409Z",
     "shell.execute_reply.started": "2023-08-12T21:13:34.462688Z"
    },
    "tags": []
   },
   "outputs": [],
   "source": [
    "idx_file_list = np.sort(idx_file_list)"
   ]
  },
  {
   "cell_type": "code",
   "execution_count": 9,
   "id": "3bc218ee",
   "metadata": {
    "execution": {
     "iopub.execute_input": "2023-08-12T21:13:34.477041Z",
     "iopub.status.busy": "2023-08-12T21:13:34.476846Z",
     "iopub.status.idle": "2023-08-12T21:13:34.488406Z",
     "shell.execute_reply": "2023-08-12T21:13:34.487979Z",
     "shell.execute_reply.started": "2023-08-12T21:13:34.477023Z"
    },
    "tags": []
   },
   "outputs": [],
   "source": [
    "# Initialize an empty list to store the data from each file\n",
    "idx_data_list = []\n",
    "# Loop through each file and load its data into the list\n",
    "for file in idx_file_list:\n",
    "    idx_data = np.load(file, allow_pickle=True)\n",
    "    idx_data_list.append(idx_data)\n",
    "idx_data_merged = np.concatenate(idx_data_list)"
   ]
  },
  {
   "cell_type": "code",
   "execution_count": 10,
   "id": "4ee7791d",
   "metadata": {
    "execution": {
     "iopub.execute_input": "2023-08-12T21:13:34.489213Z",
     "iopub.status.busy": "2023-08-12T21:13:34.489027Z",
     "iopub.status.idle": "2023-08-12T21:13:34.492140Z",
     "shell.execute_reply": "2023-08-12T21:13:34.491704Z",
     "shell.execute_reply.started": "2023-08-12T21:13:34.489195Z"
    },
    "tags": []
   },
   "outputs": [],
   "source": [
    "df_pred.index = idx_data_merged"
   ]
  },
  {
   "cell_type": "code",
   "execution_count": 11,
   "id": "2235ee03",
   "metadata": {
    "execution": {
     "iopub.execute_input": "2023-08-12T21:13:34.492976Z",
     "iopub.status.busy": "2023-08-12T21:13:34.492736Z",
     "iopub.status.idle": "2023-08-12T21:13:34.504769Z",
     "shell.execute_reply": "2023-08-12T21:13:34.504337Z",
     "shell.execute_reply.started": "2023-08-12T21:13:34.492956Z"
    },
    "tags": []
   },
   "outputs": [],
   "source": [
    "target_GEX_idxcol = np.load(\"../data/sparse_data/train_multi_targets_idxcol.npz\", allow_pickle=True)\n",
    "df_pred.columns = target_GEX_idxcol['columns']"
   ]
  },
  {
   "cell_type": "code",
   "execution_count": 13,
   "id": "1e9739fe",
   "metadata": {
    "execution": {
     "iopub.execute_input": "2023-08-12T21:13:34.554769Z",
     "iopub.status.busy": "2023-08-12T21:13:34.554482Z",
     "iopub.status.idle": "2023-08-12T21:14:09.835002Z",
     "shell.execute_reply": "2023-08-12T21:14:09.834299Z",
     "shell.execute_reply.started": "2023-08-12T21:13:34.554747Z"
    },
    "tags": []
   },
   "outputs": [],
   "source": [
    "eval_ids = pd.read_csv(\"../data/evaluation_ids.csv.zip\")"
   ]
  },
  {
   "cell_type": "code",
   "execution_count": 14,
   "id": "befd8fc1",
   "metadata": {
    "execution": {
     "iopub.execute_input": "2023-08-12T21:14:09.836198Z",
     "iopub.status.busy": "2023-08-12T21:14:09.835885Z",
     "iopub.status.idle": "2023-08-12T21:14:45.137034Z",
     "shell.execute_reply": "2023-08-12T21:14:45.136362Z",
     "shell.execute_reply.started": "2023-08-12T21:14:09.836176Z"
    },
    "tags": []
   },
   "outputs": [],
   "source": [
    "eval_ids_sub = eval_ids[eval_ids['gene_id'].str.contains(\"^ENSG\")]"
   ]
  },
  {
   "cell_type": "code",
   "execution_count": 15,
   "id": "4c6bdca2",
   "metadata": {
    "execution": {
     "iopub.execute_input": "2023-08-12T21:14:45.138232Z",
     "iopub.status.busy": "2023-08-12T21:14:45.137916Z",
     "iopub.status.idle": "2023-08-12T21:14:45.146313Z",
     "shell.execute_reply": "2023-08-12T21:14:45.145827Z",
     "shell.execute_reply.started": "2023-08-12T21:14:45.138210Z"
    },
    "tags": []
   },
   "outputs": [
    {
     "data": {
      "text/html": [
       "<div>\n",
       "<style scoped>\n",
       "    .dataframe tbody tr th:only-of-type {\n",
       "        vertical-align: middle;\n",
       "    }\n",
       "\n",
       "    .dataframe tbody tr th {\n",
       "        vertical-align: top;\n",
       "    }\n",
       "\n",
       "    .dataframe thead th {\n",
       "        text-align: right;\n",
       "    }\n",
       "</style>\n",
       "<table border=\"1\" class=\"dataframe\">\n",
       "  <thead>\n",
       "    <tr style=\"text-align: right;\">\n",
       "      <th></th>\n",
       "      <th>row_id</th>\n",
       "      <th>cell_id</th>\n",
       "      <th>gene_id</th>\n",
       "    </tr>\n",
       "  </thead>\n",
       "  <tbody>\n",
       "    <tr>\n",
       "      <th>6812820</th>\n",
       "      <td>6812820</td>\n",
       "      <td>8d287040728a</td>\n",
       "      <td>ENSG00000204091</td>\n",
       "    </tr>\n",
       "    <tr>\n",
       "      <th>6812821</th>\n",
       "      <td>6812821</td>\n",
       "      <td>8d287040728a</td>\n",
       "      <td>ENSG00000198938</td>\n",
       "    </tr>\n",
       "    <tr>\n",
       "      <th>6812822</th>\n",
       "      <td>6812822</td>\n",
       "      <td>8d287040728a</td>\n",
       "      <td>ENSG00000168495</td>\n",
       "    </tr>\n",
       "    <tr>\n",
       "      <th>6812823</th>\n",
       "      <td>6812823</td>\n",
       "      <td>8d287040728a</td>\n",
       "      <td>ENSG00000165527</td>\n",
       "    </tr>\n",
       "    <tr>\n",
       "      <th>6812824</th>\n",
       "      <td>6812824</td>\n",
       "      <td>8d287040728a</td>\n",
       "      <td>ENSG00000167414</td>\n",
       "    </tr>\n",
       "    <tr>\n",
       "      <th>...</th>\n",
       "      <td>...</td>\n",
       "      <td>...</td>\n",
       "      <td>...</td>\n",
       "    </tr>\n",
       "    <tr>\n",
       "      <th>65744175</th>\n",
       "      <td>65744175</td>\n",
       "      <td>2c53aa67933d</td>\n",
       "      <td>ENSG00000134419</td>\n",
       "    </tr>\n",
       "    <tr>\n",
       "      <th>65744176</th>\n",
       "      <td>65744176</td>\n",
       "      <td>2c53aa67933d</td>\n",
       "      <td>ENSG00000186862</td>\n",
       "    </tr>\n",
       "    <tr>\n",
       "      <th>65744177</th>\n",
       "      <td>65744177</td>\n",
       "      <td>2c53aa67933d</td>\n",
       "      <td>ENSG00000170959</td>\n",
       "    </tr>\n",
       "    <tr>\n",
       "      <th>65744178</th>\n",
       "      <td>65744178</td>\n",
       "      <td>2c53aa67933d</td>\n",
       "      <td>ENSG00000107874</td>\n",
       "    </tr>\n",
       "    <tr>\n",
       "      <th>65744179</th>\n",
       "      <td>65744179</td>\n",
       "      <td>2c53aa67933d</td>\n",
       "      <td>ENSG00000166012</td>\n",
       "    </tr>\n",
       "  </tbody>\n",
       "</table>\n",
       "<p>58931360 rows × 3 columns</p>\n",
       "</div>"
      ],
      "text/plain": [
       "            row_id       cell_id          gene_id\n",
       "6812820    6812820  8d287040728a  ENSG00000204091\n",
       "6812821    6812821  8d287040728a  ENSG00000198938\n",
       "6812822    6812822  8d287040728a  ENSG00000168495\n",
       "6812823    6812823  8d287040728a  ENSG00000165527\n",
       "6812824    6812824  8d287040728a  ENSG00000167414\n",
       "...            ...           ...              ...\n",
       "65744175  65744175  2c53aa67933d  ENSG00000134419\n",
       "65744176  65744176  2c53aa67933d  ENSG00000186862\n",
       "65744177  65744177  2c53aa67933d  ENSG00000170959\n",
       "65744178  65744178  2c53aa67933d  ENSG00000107874\n",
       "65744179  65744179  2c53aa67933d  ENSG00000166012\n",
       "\n",
       "[58931360 rows x 3 columns]"
      ]
     },
     "execution_count": 15,
     "metadata": {},
     "output_type": "execute_result"
    }
   ],
   "source": [
    "eval_ids_sub"
   ]
  },
  {
   "cell_type": "code",
   "execution_count": 16,
   "id": "1144317d",
   "metadata": {
    "execution": {
     "iopub.execute_input": "2023-08-12T21:14:45.148247Z",
     "iopub.status.busy": "2023-08-12T21:14:45.147992Z",
     "iopub.status.idle": "2023-08-12T21:14:45.152004Z",
     "shell.execute_reply": "2023-08-12T21:14:45.151485Z",
     "shell.execute_reply.started": "2023-08-12T21:14:45.148228Z"
    },
    "tags": []
   },
   "outputs": [],
   "source": [
    "del eval_ids"
   ]
  },
  {
   "cell_type": "code",
   "execution_count": 17,
   "id": "3b557d05",
   "metadata": {
    "execution": {
     "iopub.execute_input": "2023-08-12T21:14:45.152963Z",
     "iopub.status.busy": "2023-08-12T21:14:45.152704Z",
     "iopub.status.idle": "2023-08-12T21:14:45.155446Z",
     "shell.execute_reply": "2023-08-12T21:14:45.155010Z",
     "shell.execute_reply.started": "2023-08-12T21:14:45.152943Z"
    },
    "tags": []
   },
   "outputs": [],
   "source": [
    "#sum(np.isin(df_pred.index, eval_ids_sub['cell_id']))"
   ]
  },
  {
   "cell_type": "code",
   "execution_count": 18,
   "id": "bfc64662",
   "metadata": {
    "execution": {
     "iopub.execute_input": "2023-08-12T21:14:45.156302Z",
     "iopub.status.busy": "2023-08-12T21:14:45.156075Z",
     "iopub.status.idle": "2023-08-12T21:14:57.753069Z",
     "shell.execute_reply": "2023-08-12T21:14:57.752482Z",
     "shell.execute_reply.started": "2023-08-12T21:14:45.156284Z"
    },
    "tags": []
   },
   "outputs": [],
   "source": [
    "eval_ids_sub['tmp_id'] = eval_ids_sub['cell_id'] + \"_\" + eval_ids_sub['gene_id']"
   ]
  },
  {
   "cell_type": "code",
   "execution_count": 19,
   "id": "785fb14d-a332-411a-b65b-f50f9e2c5238",
   "metadata": {
    "execution": {
     "iopub.execute_input": "2023-08-12T21:14:57.754147Z",
     "iopub.status.busy": "2023-08-12T21:14:57.753874Z",
     "iopub.status.idle": "2023-08-12T21:14:57.762654Z",
     "shell.execute_reply": "2023-08-12T21:14:57.762186Z",
     "shell.execute_reply.started": "2023-08-12T21:14:57.754126Z"
    },
    "tags": []
   },
   "outputs": [
    {
     "data": {
      "text/html": [
       "<div>\n",
       "<style scoped>\n",
       "    .dataframe tbody tr th:only-of-type {\n",
       "        vertical-align: middle;\n",
       "    }\n",
       "\n",
       "    .dataframe tbody tr th {\n",
       "        vertical-align: top;\n",
       "    }\n",
       "\n",
       "    .dataframe thead th {\n",
       "        text-align: right;\n",
       "    }\n",
       "</style>\n",
       "<table border=\"1\" class=\"dataframe\">\n",
       "  <thead>\n",
       "    <tr style=\"text-align: right;\">\n",
       "      <th></th>\n",
       "      <th>row_id</th>\n",
       "      <th>cell_id</th>\n",
       "      <th>gene_id</th>\n",
       "      <th>tmp_id</th>\n",
       "    </tr>\n",
       "  </thead>\n",
       "  <tbody>\n",
       "    <tr>\n",
       "      <th>6812820</th>\n",
       "      <td>6812820</td>\n",
       "      <td>8d287040728a</td>\n",
       "      <td>ENSG00000204091</td>\n",
       "      <td>8d287040728a_ENSG00000204091</td>\n",
       "    </tr>\n",
       "    <tr>\n",
       "      <th>6812821</th>\n",
       "      <td>6812821</td>\n",
       "      <td>8d287040728a</td>\n",
       "      <td>ENSG00000198938</td>\n",
       "      <td>8d287040728a_ENSG00000198938</td>\n",
       "    </tr>\n",
       "    <tr>\n",
       "      <th>6812822</th>\n",
       "      <td>6812822</td>\n",
       "      <td>8d287040728a</td>\n",
       "      <td>ENSG00000168495</td>\n",
       "      <td>8d287040728a_ENSG00000168495</td>\n",
       "    </tr>\n",
       "    <tr>\n",
       "      <th>6812823</th>\n",
       "      <td>6812823</td>\n",
       "      <td>8d287040728a</td>\n",
       "      <td>ENSG00000165527</td>\n",
       "      <td>8d287040728a_ENSG00000165527</td>\n",
       "    </tr>\n",
       "    <tr>\n",
       "      <th>6812824</th>\n",
       "      <td>6812824</td>\n",
       "      <td>8d287040728a</td>\n",
       "      <td>ENSG00000167414</td>\n",
       "      <td>8d287040728a_ENSG00000167414</td>\n",
       "    </tr>\n",
       "    <tr>\n",
       "      <th>...</th>\n",
       "      <td>...</td>\n",
       "      <td>...</td>\n",
       "      <td>...</td>\n",
       "      <td>...</td>\n",
       "    </tr>\n",
       "    <tr>\n",
       "      <th>65744175</th>\n",
       "      <td>65744175</td>\n",
       "      <td>2c53aa67933d</td>\n",
       "      <td>ENSG00000134419</td>\n",
       "      <td>2c53aa67933d_ENSG00000134419</td>\n",
       "    </tr>\n",
       "    <tr>\n",
       "      <th>65744176</th>\n",
       "      <td>65744176</td>\n",
       "      <td>2c53aa67933d</td>\n",
       "      <td>ENSG00000186862</td>\n",
       "      <td>2c53aa67933d_ENSG00000186862</td>\n",
       "    </tr>\n",
       "    <tr>\n",
       "      <th>65744177</th>\n",
       "      <td>65744177</td>\n",
       "      <td>2c53aa67933d</td>\n",
       "      <td>ENSG00000170959</td>\n",
       "      <td>2c53aa67933d_ENSG00000170959</td>\n",
       "    </tr>\n",
       "    <tr>\n",
       "      <th>65744178</th>\n",
       "      <td>65744178</td>\n",
       "      <td>2c53aa67933d</td>\n",
       "      <td>ENSG00000107874</td>\n",
       "      <td>2c53aa67933d_ENSG00000107874</td>\n",
       "    </tr>\n",
       "    <tr>\n",
       "      <th>65744179</th>\n",
       "      <td>65744179</td>\n",
       "      <td>2c53aa67933d</td>\n",
       "      <td>ENSG00000166012</td>\n",
       "      <td>2c53aa67933d_ENSG00000166012</td>\n",
       "    </tr>\n",
       "  </tbody>\n",
       "</table>\n",
       "<p>58931360 rows × 4 columns</p>\n",
       "</div>"
      ],
      "text/plain": [
       "            row_id       cell_id          gene_id  \\\n",
       "6812820    6812820  8d287040728a  ENSG00000204091   \n",
       "6812821    6812821  8d287040728a  ENSG00000198938   \n",
       "6812822    6812822  8d287040728a  ENSG00000168495   \n",
       "6812823    6812823  8d287040728a  ENSG00000165527   \n",
       "6812824    6812824  8d287040728a  ENSG00000167414   \n",
       "...            ...           ...              ...   \n",
       "65744175  65744175  2c53aa67933d  ENSG00000134419   \n",
       "65744176  65744176  2c53aa67933d  ENSG00000186862   \n",
       "65744177  65744177  2c53aa67933d  ENSG00000170959   \n",
       "65744178  65744178  2c53aa67933d  ENSG00000107874   \n",
       "65744179  65744179  2c53aa67933d  ENSG00000166012   \n",
       "\n",
       "                                tmp_id  \n",
       "6812820   8d287040728a_ENSG00000204091  \n",
       "6812821   8d287040728a_ENSG00000198938  \n",
       "6812822   8d287040728a_ENSG00000168495  \n",
       "6812823   8d287040728a_ENSG00000165527  \n",
       "6812824   8d287040728a_ENSG00000167414  \n",
       "...                                ...  \n",
       "65744175  2c53aa67933d_ENSG00000134419  \n",
       "65744176  2c53aa67933d_ENSG00000186862  \n",
       "65744177  2c53aa67933d_ENSG00000170959  \n",
       "65744178  2c53aa67933d_ENSG00000107874  \n",
       "65744179  2c53aa67933d_ENSG00000166012  \n",
       "\n",
       "[58931360 rows x 4 columns]"
      ]
     },
     "execution_count": 19,
     "metadata": {},
     "output_type": "execute_result"
    }
   ],
   "source": [
    "eval_ids_sub\n"
   ]
  },
  {
   "cell_type": "code",
   "execution_count": 20,
   "id": "75c222a4-4ddc-466b-8c4b-78fb8f6096c8",
   "metadata": {
    "execution": {
     "iopub.execute_input": "2023-08-12T21:14:57.763577Z",
     "iopub.status.busy": "2023-08-12T21:14:57.763326Z",
     "iopub.status.idle": "2023-08-12T21:15:06.232427Z",
     "shell.execute_reply": "2023-08-12T21:15:06.231735Z",
     "shell.execute_reply.started": "2023-08-12T21:14:57.763558Z"
    }
   },
   "outputs": [
    {
     "data": {
      "text/plain": [
       "23418"
      ]
     },
     "execution_count": 20,
     "metadata": {},
     "output_type": "execute_result"
    }
   ],
   "source": [
    "len(set(eval_ids_sub['gene_id']))"
   ]
  },
  {
   "cell_type": "code",
   "execution_count": 22,
   "id": "26d44cf1-a148-4bf6-85df-dcccc02b4ddb",
   "metadata": {
    "execution": {
     "iopub.execute_input": "2023-08-12T21:15:06.278407Z",
     "iopub.status.busy": "2023-08-12T21:15:06.277893Z",
     "iopub.status.idle": "2023-08-12T21:15:06.281281Z",
     "shell.execute_reply": "2023-08-12T21:15:06.280662Z",
     "shell.execute_reply.started": "2023-08-12T21:15:06.278374Z"
    },
    "tags": []
   },
   "outputs": [],
   "source": [
    "#df_pred = pd.melt(df_pred.reset_index(), id_vars = 'index')"
   ]
  },
  {
   "cell_type": "code",
   "execution_count": 23,
   "id": "c70a5294-e46b-4e06-9a7c-11fbae9c0430",
   "metadata": {
    "execution": {
     "iopub.execute_input": "2023-08-12T21:15:06.282791Z",
     "iopub.status.busy": "2023-08-12T21:15:06.282221Z",
     "iopub.status.idle": "2023-08-12T21:15:06.287550Z",
     "shell.execute_reply": "2023-08-12T21:15:06.287022Z",
     "shell.execute_reply.started": "2023-08-12T21:15:06.282759Z"
    },
    "tags": []
   },
   "outputs": [
    {
     "data": {
      "text/plain": [
       "55935"
      ]
     },
     "execution_count": 23,
     "metadata": {},
     "output_type": "execute_result"
    }
   ],
   "source": [
    "len(df_pred)"
   ]
  },
  {
   "cell_type": "code",
   "execution_count": 24,
   "id": "09ba12aa-1801-4ffb-acbf-9f5067db0878",
   "metadata": {
    "collapsed": true,
    "execution": {
     "iopub.execute_input": "2023-08-12T21:15:06.288836Z",
     "iopub.status.busy": "2023-08-12T21:15:06.288320Z",
     "iopub.status.idle": "2023-08-12T22:33:23.474810Z",
     "shell.execute_reply": "2023-08-12T22:33:23.474201Z",
     "shell.execute_reply.started": "2023-08-12T21:15:06.288805Z"
    },
    "tags": []
   },
   "outputs": [
    {
     "name": "stdout",
     "output_type": "stream",
     "text": [
      "0\n",
      "2000\n",
      "4000\n",
      "6000\n"
     ]
    },
    {
     "name": "stderr",
     "output_type": "stream",
     "text": [
      "IOStream.flush timed out\n"
     ]
    },
    {
     "name": "stdout",
     "output_type": "stream",
     "text": [
      "8000\n",
      "10000\n",
      "12000\n",
      "14000\n",
      "16000\n",
      "18000\n",
      "20000\n",
      "22000\n",
      "24000\n",
      "26000\n",
      "28000\n",
      "30000\n",
      "32000\n",
      "34000\n",
      "36000\n",
      "38000\n",
      "40000\n",
      "42000\n",
      "44000\n",
      "46000\n",
      "48000\n",
      "50000\n",
      "52000\n",
      "54000\n"
     ]
    }
   ],
   "source": [
    "pivot_list = list()\n",
    "chunk_size = 2000\n",
    "\n",
    "for i in range(0,len(df_pred),chunk_size):\n",
    "    print(i)\n",
    "    row_pivot =pd.melt(df_pred.iloc[i:i+chunk_size].reset_index(),id_vars='index')\n",
    "    row_pivot['tmp_id'] = row_pivot['index'] + \"_\" + row_pivot['variable']\n",
    "    pivot_list.append(row_pivot.merge(eval_ids_sub, on='tmp_id', how='inner')[['row_id', 'value']])\n",
    "\n"
   ]
  },
  {
   "cell_type": "code",
   "execution_count": 25,
   "id": "87527c2c-117b-4d55-b000-0227e3711ae9",
   "metadata": {
    "execution": {
     "iopub.execute_input": "2023-08-12T22:33:23.476474Z",
     "iopub.status.busy": "2023-08-12T22:33:23.476183Z",
     "iopub.status.idle": "2023-08-12T22:33:25.028796Z",
     "shell.execute_reply": "2023-08-12T22:33:25.028232Z",
     "shell.execute_reply.started": "2023-08-12T22:33:23.476451Z"
    }
   },
   "outputs": [],
   "source": [
    "import pickle\n",
    "\n",
    "with open(\"pivot_list_test\", \"wb\") as fp:   #Pickling\n",
    "    pickle.dump(pivot_list, fp)"
   ]
  },
  {
   "cell_type": "code",
   "execution_count": 26,
   "id": "c6afc41b-f928-45bd-9913-3d7f4ca1eb47",
   "metadata": {
    "execution": {
     "iopub.execute_input": "2023-08-12T22:44:03.498785Z",
     "iopub.status.busy": "2023-08-12T22:44:03.498393Z",
     "iopub.status.idle": "2023-08-12T22:44:03.584830Z",
     "shell.execute_reply": "2023-08-12T22:44:03.584334Z",
     "shell.execute_reply.started": "2023-08-12T22:44:03.498759Z"
    },
    "tags": []
   },
   "outputs": [
    {
     "data": {
      "text/plain": [
       "43"
      ]
     },
     "execution_count": 26,
     "metadata": {},
     "output_type": "execute_result"
    }
   ],
   "source": [
    "del df_pred\n",
    "gc.collect()"
   ]
  },
  {
   "cell_type": "code",
   "execution_count": 27,
   "id": "d016ca19-41c6-4ef7-a483-08b199f87f15",
   "metadata": {
    "execution": {
     "iopub.execute_input": "2023-08-12T22:44:10.544316Z",
     "iopub.status.busy": "2023-08-12T22:44:10.543935Z",
     "iopub.status.idle": "2023-08-12T22:44:10.974062Z",
     "shell.execute_reply": "2023-08-12T22:44:10.973490Z",
     "shell.execute_reply.started": "2023-08-12T22:44:10.544291Z"
    },
    "tags": []
   },
   "outputs": [],
   "source": [
    "df_pred = pd.concat(pivot_list)"
   ]
  },
  {
   "cell_type": "code",
   "execution_count": 30,
   "id": "af4b5a7e",
   "metadata": {
    "execution": {
     "iopub.execute_input": "2023-08-12T22:45:37.236035Z",
     "iopub.status.busy": "2023-08-12T22:45:37.235667Z",
     "iopub.status.idle": "2023-08-12T22:45:54.483642Z",
     "shell.execute_reply": "2023-08-12T22:45:54.483049Z",
     "shell.execute_reply.started": "2023-08-12T22:45:37.236008Z"
    }
   },
   "outputs": [],
   "source": [
    "np.save(\"../data/multi_submision.npy\", df_pred.sort_values(\"row_id\"))"
   ]
  }
 ],
 "metadata": {
  "kernelspec": {
   "display_name": "Python 3 (ipykernel)",
   "language": "python",
   "name": "python3"
  },
  "language_info": {
   "codemirror_mode": {
    "name": "ipython",
    "version": 3
   },
   "file_extension": ".py",
   "mimetype": "text/x-python",
   "name": "python",
   "nbconvert_exporter": "python",
   "pygments_lexer": "ipython3",
   "version": "3.9.5"
  }
 },
 "nbformat": 4,
 "nbformat_minor": 5
}
